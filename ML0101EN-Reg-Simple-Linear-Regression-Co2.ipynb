{
 "cells": [
  {
   "cell_type": "markdown",
   "metadata": {
    "button": false,
    "new_sheet": false,
    "run_control": {
     "read_only": false
    }
   },
   "source": [
    "<center>\n",
    "    <img src=\"https://cf-courses-data.s3.us.cloud-object-storage.appdomain.cloud/IBMDeveloperSkillsNetwork-ML0101EN-SkillsNetwork/labs/Module%202/images/IDSNlogo.png\" width=\"300\" alt=\"cognitiveclass.ai logo\"  />\n",
    "</center>\n",
    "\n",
    "# Simple Linear Regression\n",
    "\n",
    "Estimated time needed: **15** minutes\n",
    "\n",
    "## Objectives\n",
    "\n",
    "After completing this lab you will be able to:\n",
    "\n",
    "-   Use scikit-learn to implement simple Linear Regression\n",
    "-   Create a model, train,test and use the model\n"
   ]
  },
  {
   "cell_type": "markdown",
   "metadata": {
    "button": false,
    "new_sheet": false,
    "run_control": {
     "read_only": false
    }
   },
   "source": [
    "### Importing Needed packages\n"
   ]
  },
  {
   "cell_type": "code",
   "execution_count": 1,
   "metadata": {
    "button": false,
    "new_sheet": false,
    "run_control": {
     "read_only": false
    }
   },
   "outputs": [],
   "source": [
    "import matplotlib.pyplot as plt\n",
    "import pandas as pd\n",
    "import pylab as pl\n",
    "import numpy as np\n",
    "%matplotlib inline"
   ]
  },
  {
   "cell_type": "code",
   "execution_count": 6,
   "metadata": {},
   "outputs": [
    {
     "name": "stdout",
     "output_type": "stream",
     "text": [
      "Collecting wget\n",
      "  Downloading wget-3.2.zip (10 kB)\n",
      "Building wheels for collected packages: wget\n",
      "  Building wheel for wget (setup.py): started\n",
      "  Building wheel for wget (setup.py): finished with status 'done'\n",
      "  Created wheel for wget: filename=wget-3.2-py3-none-any.whl size=9680 sha256=6dc6c1a8eb288a0ccdb67d257d7042a9b1e721f3fe6ca64afbc643ebe7334376\n",
      "  Stored in directory: c:\\users\\frank\\appdata\\local\\pip\\cache\\wheels\\04\\5f\\3e\\46cc37c5d698415694d83f607f833f83f0149e49b3af9d0f38\n",
      "Successfully built wget\n",
      "Installing collected packages: wget\n",
      "Successfully installed wget-3.2\n"
     ]
    },
    {
     "name": "stderr",
     "output_type": "stream",
     "text": [
      "WARNING: You are using pip version 20.2.3; however, version 21.1.1 is available.\n",
      "You should consider upgrading via the 'd:\\python39\\python.exe -m pip install --upgrade pip' command.\n"
     ]
    },
    {
     "name": "stdout",
     "output_type": "stream",
     "text": [
      "Processing c:\\users\\frank\\appdata\\local\\pip\\cache\\wheels\\04\\5f\\3e\\46cc37c5d698415694d83f607f833f83f0149e49b3af9d0f38\\wget-3.2-py3-none-any.whl\n",
      "Installing collected packages: wget\n",
      "  Attempting uninstall: wget\n",
      "    Found existing installation: wget 3.2\n",
      "    Uninstalling wget-3.2:\n",
      "      Successfully uninstalled wget-3.2\n",
      "Successfully installed wget-3.2\n"
     ]
    },
    {
     "name": "stderr",
     "output_type": "stream",
     "text": [
      "WARNING: You are using pip version 20.2.3; however, version 21.1.1 is available.\n",
      "You should consider upgrading via the 'd:\\python39\\python.exe -m pip install --upgrade pip' command.\n"
     ]
    }
   ],
   "source": [
    "!pip install wget"
   ]
  },
  {
   "cell_type": "markdown",
   "metadata": {
    "button": false,
    "new_sheet": false,
    "run_control": {
     "read_only": false
    }
   },
   "source": [
    "### Downloading Data\n",
    "\n",
    "To download the data, we will use !wget to download it from IBM Object Storage.\n"
   ]
  },
  {
   "cell_type": "code",
   "execution_count": 7,
   "metadata": {
    "button": false,
    "new_sheet": false,
    "run_control": {
     "read_only": false
    }
   },
   "outputs": [
    {
     "name": "stderr",
     "output_type": "stream",
     "text": [
      "'wget' is not recognized as an internal or external command,\n",
      "operable program or batch file.\n"
     ]
    }
   ],
   "source": [
    "!wget -O FuelConsumption.csv https://cf-courses-data.s3.us.cloud-object-storage.appdomain.cloud/IBMDeveloperSkillsNetwork-ML0101EN-SkillsNetwork/labs/Module%202/data/FuelConsumptionCo2.csv"
   ]
  },
  {
   "cell_type": "markdown",
   "metadata": {},
   "source": [
    "**Did you know?** When it comes to Machine Learning, you will likely be working with large datasets. As a business, where can you host your data? IBM is offering a unique opportunity for businesses, with 10 Tb of IBM Cloud Object Storage: [Sign up now for free](http://cocl.us/ML0101EN-IBM-Offer-CC)\n"
   ]
  },
  {
   "cell_type": "markdown",
   "metadata": {
    "button": false,
    "new_sheet": false,
    "run_control": {
     "read_only": false
    }
   },
   "source": [
    "## Understanding the Data\n",
    "\n",
    "### `FuelConsumption.csv`:\n",
    "\n",
    "We have downloaded a fuel consumption dataset, **`FuelConsumption.csv`**, which contains model-specific fuel consumption ratings and estimated carbon dioxide emissions for new light-duty vehicles for retail sale in Canada. [Dataset source](http://open.canada.ca/data/en/dataset/98f1a129-f628-4ce4-b24d-6f16bf24dd64?cm_mmc=Email_Newsletter-_-Developer_Ed%2BTech-_-WW_WW-_-SkillsNetwork-Courses-IBMDeveloperSkillsNetwork-ML0101EN-SkillsNetwork-20718538&cm_mmca1=000026UJ&cm_mmca2=10006555&cm_mmca3=M12345678&cvosrc=email.Newsletter.M12345678&cvo_campaign=000026UJ&cm_mmc=Email_Newsletter-_-Developer_Ed%2BTech-_-WW_WW-_-SkillsNetwork-Courses-IBMDeveloperSkillsNetwork-ML0101EN-SkillsNetwork-20718538&cm_mmca1=000026UJ&cm_mmca2=10006555&cm_mmca3=M12345678&cvosrc=email.Newsletter.M12345678&cvo_campaign=000026UJ&cm_mmc=Email_Newsletter-_-Developer_Ed%2BTech-_-WW_WW-_-SkillsNetwork-Courses-IBMDeveloperSkillsNetwork-ML0101EN-SkillsNetwork-20718538&cm_mmca1=000026UJ&cm_mmca2=10006555&cm_mmca3=M12345678&cvosrc=email.Newsletter.M12345678&cvo_campaign=000026UJ&cm_mmc=Email_Newsletter-_-Developer_Ed%2BTech-_-WW_WW-_-SkillsNetwork-Courses-IBMDeveloperSkillsNetwork-ML0101EN-SkillsNetwork-20718538&cm_mmca1=000026UJ&cm_mmca2=10006555&cm_mmca3=M12345678&cvosrc=email.Newsletter.M12345678&cvo_campaign=000026UJ)\n",
    "\n",
    "-   **MODELYEAR** e.g. 2014\n",
    "-   **MAKE** e.g. Acura\n",
    "-   **MODEL** e.g. ILX\n",
    "-   **VEHICLE CLASS** e.g. SUV\n",
    "-   **ENGINE SIZE** e.g. 4.7\n",
    "-   **CYLINDERS** e.g 6\n",
    "-   **TRANSMISSION** e.g. A6\n",
    "-   **FUEL CONSUMPTION in CITY(L/100 km)** e.g. 9.9\n",
    "-   **FUEL CONSUMPTION in HWY (L/100 km)** e.g. 8.9\n",
    "-   **FUEL CONSUMPTION COMB (L/100 km)** e.g. 9.2\n",
    "-   **CO2 EMISSIONS (g/km)** e.g. 182   --> low --> 0\n"
   ]
  },
  {
   "cell_type": "markdown",
   "metadata": {
    "button": false,
    "new_sheet": false,
    "run_control": {
     "read_only": false
    }
   },
   "source": [
    "## Reading the data in\n"
   ]
  },
  {
   "cell_type": "code",
   "execution_count": 9,
   "metadata": {
    "button": false,
    "new_sheet": false,
    "run_control": {
     "read_only": false
    }
   },
   "outputs": [
    {
     "data": {
      "text/html": [
       "<div>\n",
       "<style scoped>\n",
       "    .dataframe tbody tr th:only-of-type {\n",
       "        vertical-align: middle;\n",
       "    }\n",
       "\n",
       "    .dataframe tbody tr th {\n",
       "        vertical-align: top;\n",
       "    }\n",
       "\n",
       "    .dataframe thead th {\n",
       "        text-align: right;\n",
       "    }\n",
       "</style>\n",
       "<table border=\"1\" class=\"dataframe\">\n",
       "  <thead>\n",
       "    <tr style=\"text-align: right;\">\n",
       "      <th></th>\n",
       "      <th>MODELYEAR</th>\n",
       "      <th>MAKE</th>\n",
       "      <th>MODEL</th>\n",
       "      <th>VEHICLECLASS</th>\n",
       "      <th>ENGINESIZE</th>\n",
       "      <th>CYLINDERS</th>\n",
       "      <th>TRANSMISSION</th>\n",
       "      <th>FUELTYPE</th>\n",
       "      <th>FUELCONSUMPTION_CITY</th>\n",
       "      <th>FUELCONSUMPTION_HWY</th>\n",
       "      <th>FUELCONSUMPTION_COMB</th>\n",
       "      <th>FUELCONSUMPTION_COMB_MPG</th>\n",
       "      <th>CO2EMISSIONS</th>\n",
       "    </tr>\n",
       "  </thead>\n",
       "  <tbody>\n",
       "    <tr>\n",
       "      <th>0</th>\n",
       "      <td>2014</td>\n",
       "      <td>ACURA</td>\n",
       "      <td>ILX</td>\n",
       "      <td>COMPACT</td>\n",
       "      <td>2.0</td>\n",
       "      <td>4</td>\n",
       "      <td>AS5</td>\n",
       "      <td>Z</td>\n",
       "      <td>9.9</td>\n",
       "      <td>6.7</td>\n",
       "      <td>8.5</td>\n",
       "      <td>33</td>\n",
       "      <td>196</td>\n",
       "    </tr>\n",
       "    <tr>\n",
       "      <th>1</th>\n",
       "      <td>2014</td>\n",
       "      <td>ACURA</td>\n",
       "      <td>ILX</td>\n",
       "      <td>COMPACT</td>\n",
       "      <td>2.4</td>\n",
       "      <td>4</td>\n",
       "      <td>M6</td>\n",
       "      <td>Z</td>\n",
       "      <td>11.2</td>\n",
       "      <td>7.7</td>\n",
       "      <td>9.6</td>\n",
       "      <td>29</td>\n",
       "      <td>221</td>\n",
       "    </tr>\n",
       "    <tr>\n",
       "      <th>2</th>\n",
       "      <td>2014</td>\n",
       "      <td>ACURA</td>\n",
       "      <td>ILX HYBRID</td>\n",
       "      <td>COMPACT</td>\n",
       "      <td>1.5</td>\n",
       "      <td>4</td>\n",
       "      <td>AV7</td>\n",
       "      <td>Z</td>\n",
       "      <td>6.0</td>\n",
       "      <td>5.8</td>\n",
       "      <td>5.9</td>\n",
       "      <td>48</td>\n",
       "      <td>136</td>\n",
       "    </tr>\n",
       "    <tr>\n",
       "      <th>3</th>\n",
       "      <td>2014</td>\n",
       "      <td>ACURA</td>\n",
       "      <td>MDX 4WD</td>\n",
       "      <td>SUV - SMALL</td>\n",
       "      <td>3.5</td>\n",
       "      <td>6</td>\n",
       "      <td>AS6</td>\n",
       "      <td>Z</td>\n",
       "      <td>12.7</td>\n",
       "      <td>9.1</td>\n",
       "      <td>11.1</td>\n",
       "      <td>25</td>\n",
       "      <td>255</td>\n",
       "    </tr>\n",
       "    <tr>\n",
       "      <th>4</th>\n",
       "      <td>2014</td>\n",
       "      <td>ACURA</td>\n",
       "      <td>RDX AWD</td>\n",
       "      <td>SUV - SMALL</td>\n",
       "      <td>3.5</td>\n",
       "      <td>6</td>\n",
       "      <td>AS6</td>\n",
       "      <td>Z</td>\n",
       "      <td>12.1</td>\n",
       "      <td>8.7</td>\n",
       "      <td>10.6</td>\n",
       "      <td>27</td>\n",
       "      <td>244</td>\n",
       "    </tr>\n",
       "  </tbody>\n",
       "</table>\n",
       "</div>"
      ],
      "text/plain": [
       "   MODELYEAR   MAKE       MODEL VEHICLECLASS  ENGINESIZE  CYLINDERS  \\\n",
       "0       2014  ACURA         ILX      COMPACT         2.0          4   \n",
       "1       2014  ACURA         ILX      COMPACT         2.4          4   \n",
       "2       2014  ACURA  ILX HYBRID      COMPACT         1.5          4   \n",
       "3       2014  ACURA     MDX 4WD  SUV - SMALL         3.5          6   \n",
       "4       2014  ACURA     RDX AWD  SUV - SMALL         3.5          6   \n",
       "\n",
       "  TRANSMISSION FUELTYPE  FUELCONSUMPTION_CITY  FUELCONSUMPTION_HWY  \\\n",
       "0          AS5        Z                   9.9                  6.7   \n",
       "1           M6        Z                  11.2                  7.7   \n",
       "2          AV7        Z                   6.0                  5.8   \n",
       "3          AS6        Z                  12.7                  9.1   \n",
       "4          AS6        Z                  12.1                  8.7   \n",
       "\n",
       "   FUELCONSUMPTION_COMB  FUELCONSUMPTION_COMB_MPG  CO2EMISSIONS  \n",
       "0                   8.5                        33           196  \n",
       "1                   9.6                        29           221  \n",
       "2                   5.9                        48           136  \n",
       "3                  11.1                        25           255  \n",
       "4                  10.6                        27           244  "
      ]
     },
     "execution_count": 9,
     "metadata": {},
     "output_type": "execute_result"
    }
   ],
   "source": [
    "df = pd.read_csv(\"https://cf-courses-data.s3.us.cloud-object-storage.appdomain.cloud/IBMDeveloperSkillsNetwork-ML0101EN-SkillsNetwork/labs/Module%202/data/FuelConsumptionCo2.csv\")\n",
    "\n",
    "# take a look at the dataset\n",
    "df.head()\n",
    "\n"
   ]
  },
  {
   "cell_type": "markdown",
   "metadata": {
    "button": false,
    "new_sheet": false,
    "run_control": {
     "read_only": false
    }
   },
   "source": [
    "### Data Exploration\n",
    "\n",
    "Lets first have a descriptive exploration on our data.\n"
   ]
  },
  {
   "cell_type": "code",
   "execution_count": 10,
   "metadata": {
    "button": false,
    "new_sheet": false,
    "run_control": {
     "read_only": false
    }
   },
   "outputs": [
    {
     "data": {
      "text/html": [
       "<div>\n",
       "<style scoped>\n",
       "    .dataframe tbody tr th:only-of-type {\n",
       "        vertical-align: middle;\n",
       "    }\n",
       "\n",
       "    .dataframe tbody tr th {\n",
       "        vertical-align: top;\n",
       "    }\n",
       "\n",
       "    .dataframe thead th {\n",
       "        text-align: right;\n",
       "    }\n",
       "</style>\n",
       "<table border=\"1\" class=\"dataframe\">\n",
       "  <thead>\n",
       "    <tr style=\"text-align: right;\">\n",
       "      <th></th>\n",
       "      <th>MODELYEAR</th>\n",
       "      <th>ENGINESIZE</th>\n",
       "      <th>CYLINDERS</th>\n",
       "      <th>FUELCONSUMPTION_CITY</th>\n",
       "      <th>FUELCONSUMPTION_HWY</th>\n",
       "      <th>FUELCONSUMPTION_COMB</th>\n",
       "      <th>FUELCONSUMPTION_COMB_MPG</th>\n",
       "      <th>CO2EMISSIONS</th>\n",
       "    </tr>\n",
       "  </thead>\n",
       "  <tbody>\n",
       "    <tr>\n",
       "      <th>count</th>\n",
       "      <td>1067.0</td>\n",
       "      <td>1067.000000</td>\n",
       "      <td>1067.000000</td>\n",
       "      <td>1067.000000</td>\n",
       "      <td>1067.000000</td>\n",
       "      <td>1067.000000</td>\n",
       "      <td>1067.000000</td>\n",
       "      <td>1067.000000</td>\n",
       "    </tr>\n",
       "    <tr>\n",
       "      <th>mean</th>\n",
       "      <td>2014.0</td>\n",
       "      <td>3.346298</td>\n",
       "      <td>5.794752</td>\n",
       "      <td>13.296532</td>\n",
       "      <td>9.474602</td>\n",
       "      <td>11.580881</td>\n",
       "      <td>26.441425</td>\n",
       "      <td>256.228679</td>\n",
       "    </tr>\n",
       "    <tr>\n",
       "      <th>std</th>\n",
       "      <td>0.0</td>\n",
       "      <td>1.415895</td>\n",
       "      <td>1.797447</td>\n",
       "      <td>4.101253</td>\n",
       "      <td>2.794510</td>\n",
       "      <td>3.485595</td>\n",
       "      <td>7.468702</td>\n",
       "      <td>63.372304</td>\n",
       "    </tr>\n",
       "    <tr>\n",
       "      <th>min</th>\n",
       "      <td>2014.0</td>\n",
       "      <td>1.000000</td>\n",
       "      <td>3.000000</td>\n",
       "      <td>4.600000</td>\n",
       "      <td>4.900000</td>\n",
       "      <td>4.700000</td>\n",
       "      <td>11.000000</td>\n",
       "      <td>108.000000</td>\n",
       "    </tr>\n",
       "    <tr>\n",
       "      <th>25%</th>\n",
       "      <td>2014.0</td>\n",
       "      <td>2.000000</td>\n",
       "      <td>4.000000</td>\n",
       "      <td>10.250000</td>\n",
       "      <td>7.500000</td>\n",
       "      <td>9.000000</td>\n",
       "      <td>21.000000</td>\n",
       "      <td>207.000000</td>\n",
       "    </tr>\n",
       "    <tr>\n",
       "      <th>50%</th>\n",
       "      <td>2014.0</td>\n",
       "      <td>3.400000</td>\n",
       "      <td>6.000000</td>\n",
       "      <td>12.600000</td>\n",
       "      <td>8.800000</td>\n",
       "      <td>10.900000</td>\n",
       "      <td>26.000000</td>\n",
       "      <td>251.000000</td>\n",
       "    </tr>\n",
       "    <tr>\n",
       "      <th>75%</th>\n",
       "      <td>2014.0</td>\n",
       "      <td>4.300000</td>\n",
       "      <td>8.000000</td>\n",
       "      <td>15.550000</td>\n",
       "      <td>10.850000</td>\n",
       "      <td>13.350000</td>\n",
       "      <td>31.000000</td>\n",
       "      <td>294.000000</td>\n",
       "    </tr>\n",
       "    <tr>\n",
       "      <th>max</th>\n",
       "      <td>2014.0</td>\n",
       "      <td>8.400000</td>\n",
       "      <td>12.000000</td>\n",
       "      <td>30.200000</td>\n",
       "      <td>20.500000</td>\n",
       "      <td>25.800000</td>\n",
       "      <td>60.000000</td>\n",
       "      <td>488.000000</td>\n",
       "    </tr>\n",
       "  </tbody>\n",
       "</table>\n",
       "</div>"
      ],
      "text/plain": [
       "       MODELYEAR   ENGINESIZE    CYLINDERS  FUELCONSUMPTION_CITY  \\\n",
       "count     1067.0  1067.000000  1067.000000           1067.000000   \n",
       "mean      2014.0     3.346298     5.794752             13.296532   \n",
       "std          0.0     1.415895     1.797447              4.101253   \n",
       "min       2014.0     1.000000     3.000000              4.600000   \n",
       "25%       2014.0     2.000000     4.000000             10.250000   \n",
       "50%       2014.0     3.400000     6.000000             12.600000   \n",
       "75%       2014.0     4.300000     8.000000             15.550000   \n",
       "max       2014.0     8.400000    12.000000             30.200000   \n",
       "\n",
       "       FUELCONSUMPTION_HWY  FUELCONSUMPTION_COMB  FUELCONSUMPTION_COMB_MPG  \\\n",
       "count          1067.000000           1067.000000               1067.000000   \n",
       "mean              9.474602             11.580881                 26.441425   \n",
       "std               2.794510              3.485595                  7.468702   \n",
       "min               4.900000              4.700000                 11.000000   \n",
       "25%               7.500000              9.000000                 21.000000   \n",
       "50%               8.800000             10.900000                 26.000000   \n",
       "75%              10.850000             13.350000                 31.000000   \n",
       "max              20.500000             25.800000                 60.000000   \n",
       "\n",
       "       CO2EMISSIONS  \n",
       "count   1067.000000  \n",
       "mean     256.228679  \n",
       "std       63.372304  \n",
       "min      108.000000  \n",
       "25%      207.000000  \n",
       "50%      251.000000  \n",
       "75%      294.000000  \n",
       "max      488.000000  "
      ]
     },
     "execution_count": 10,
     "metadata": {},
     "output_type": "execute_result"
    }
   ],
   "source": [
    "# summarize the data\n",
    "df.describe()"
   ]
  },
  {
   "cell_type": "markdown",
   "metadata": {},
   "source": [
    "Lets select some features to explore more.\n"
   ]
  },
  {
   "cell_type": "code",
   "execution_count": 11,
   "metadata": {
    "button": false,
    "new_sheet": false,
    "run_control": {
     "read_only": false
    }
   },
   "outputs": [
    {
     "data": {
      "text/html": [
       "<div>\n",
       "<style scoped>\n",
       "    .dataframe tbody tr th:only-of-type {\n",
       "        vertical-align: middle;\n",
       "    }\n",
       "\n",
       "    .dataframe tbody tr th {\n",
       "        vertical-align: top;\n",
       "    }\n",
       "\n",
       "    .dataframe thead th {\n",
       "        text-align: right;\n",
       "    }\n",
       "</style>\n",
       "<table border=\"1\" class=\"dataframe\">\n",
       "  <thead>\n",
       "    <tr style=\"text-align: right;\">\n",
       "      <th></th>\n",
       "      <th>ENGINESIZE</th>\n",
       "      <th>CYLINDERS</th>\n",
       "      <th>FUELCONSUMPTION_COMB</th>\n",
       "      <th>CO2EMISSIONS</th>\n",
       "    </tr>\n",
       "  </thead>\n",
       "  <tbody>\n",
       "    <tr>\n",
       "      <th>0</th>\n",
       "      <td>2.0</td>\n",
       "      <td>4</td>\n",
       "      <td>8.5</td>\n",
       "      <td>196</td>\n",
       "    </tr>\n",
       "    <tr>\n",
       "      <th>1</th>\n",
       "      <td>2.4</td>\n",
       "      <td>4</td>\n",
       "      <td>9.6</td>\n",
       "      <td>221</td>\n",
       "    </tr>\n",
       "    <tr>\n",
       "      <th>2</th>\n",
       "      <td>1.5</td>\n",
       "      <td>4</td>\n",
       "      <td>5.9</td>\n",
       "      <td>136</td>\n",
       "    </tr>\n",
       "    <tr>\n",
       "      <th>3</th>\n",
       "      <td>3.5</td>\n",
       "      <td>6</td>\n",
       "      <td>11.1</td>\n",
       "      <td>255</td>\n",
       "    </tr>\n",
       "    <tr>\n",
       "      <th>4</th>\n",
       "      <td>3.5</td>\n",
       "      <td>6</td>\n",
       "      <td>10.6</td>\n",
       "      <td>244</td>\n",
       "    </tr>\n",
       "    <tr>\n",
       "      <th>5</th>\n",
       "      <td>3.5</td>\n",
       "      <td>6</td>\n",
       "      <td>10.0</td>\n",
       "      <td>230</td>\n",
       "    </tr>\n",
       "    <tr>\n",
       "      <th>6</th>\n",
       "      <td>3.5</td>\n",
       "      <td>6</td>\n",
       "      <td>10.1</td>\n",
       "      <td>232</td>\n",
       "    </tr>\n",
       "    <tr>\n",
       "      <th>7</th>\n",
       "      <td>3.7</td>\n",
       "      <td>6</td>\n",
       "      <td>11.1</td>\n",
       "      <td>255</td>\n",
       "    </tr>\n",
       "    <tr>\n",
       "      <th>8</th>\n",
       "      <td>3.7</td>\n",
       "      <td>6</td>\n",
       "      <td>11.6</td>\n",
       "      <td>267</td>\n",
       "    </tr>\n",
       "  </tbody>\n",
       "</table>\n",
       "</div>"
      ],
      "text/plain": [
       "   ENGINESIZE  CYLINDERS  FUELCONSUMPTION_COMB  CO2EMISSIONS\n",
       "0         2.0          4                   8.5           196\n",
       "1         2.4          4                   9.6           221\n",
       "2         1.5          4                   5.9           136\n",
       "3         3.5          6                  11.1           255\n",
       "4         3.5          6                  10.6           244\n",
       "5         3.5          6                  10.0           230\n",
       "6         3.5          6                  10.1           232\n",
       "7         3.7          6                  11.1           255\n",
       "8         3.7          6                  11.6           267"
      ]
     },
     "execution_count": 11,
     "metadata": {},
     "output_type": "execute_result"
    }
   ],
   "source": [
    "cdf = df[['ENGINESIZE','CYLINDERS','FUELCONSUMPTION_COMB','CO2EMISSIONS']]\n",
    "cdf.head(9)"
   ]
  },
  {
   "cell_type": "markdown",
   "metadata": {},
   "source": [
    "We can plot each of these fearues:\n"
   ]
  },
  {
   "cell_type": "code",
   "execution_count": 12,
   "metadata": {
    "button": false,
    "new_sheet": false,
    "run_control": {
     "read_only": false
    }
   },
   "outputs": [
    {
     "data": {
      "image/png": "[encoded data removed]",
      "text/plain": [
       "<Figure size 432x288 with 4 Axes>"
      ]
     },
     "metadata": {
      "needs_background": "light"
     },
     "output_type": "display_data"
    }
   ],
   "source": [
    "viz = cdf[['CYLINDERS','ENGINESIZE','CO2EMISSIONS','FUELCONSUMPTION_COMB']]\n",
    "viz.hist()\n",
    "plt.show()"
   ]
  },
  {
   "cell_type": "markdown",
   "metadata": {},
   "source": [
    "Now, lets plot each of these features vs the Emission, to see how linear is their relation:\n"
   ]
  },
  {
   "cell_type": "code",
   "execution_count": 13,
   "metadata": {
    "button": false,
    "new_sheet": false,
    "run_control": {
     "read_only": false
    }
   },
   "outputs": [
    {
     "data": {
      "image/png": "[encoded data removed]",
      "text/plain": [
       "<Figure size 432x288 with 1 Axes>"
      ]
     },
     "metadata": {
      "needs_background": "light"
     },
     "output_type": "display_data"
    }
   ],
   "source": [
    "plt.scatter(cdf.FUELCONSUMPTION_COMB, cdf.CO2EMISSIONS,  color='blue')\n",
    "plt.xlabel(\"FUELCONSUMPTION_COMB\")\n",
    "plt.ylabel(\"Emission\")\n",
    "plt.show()"
   ]
  },
  {
   "cell_type": "code",
   "execution_count": 14,
   "metadata": {
    "button": false,
    "new_sheet": false,
    "run_control": {
     "read_only": false
    },
    "scrolled": true
   },
   "outputs": [
    {
     "data": {
      "image/png": "[encoded data removed]",
      "text/plain": [
       "<Figure size 432x288 with 1 Axes>"
      ]
     },
     "metadata": {
      "needs_background": "light"
     },
     "output_type": "display_data"
    }
   ],
   "source": [
    "plt.scatter(cdf.ENGINESIZE, cdf.CO2EMISSIONS,  color='blue')\n",
    "plt.xlabel(\"Engine size\")\n",
    "plt.ylabel(\"Emission\")\n",
    "plt.show()"
   ]
  },
  {
   "cell_type": "markdown",
   "metadata": {},
   "source": [
    "## Practice\n",
    "\n",
    "Plot **CYLINDER** vs the Emission, to see how linear is their relation:\n"
   ]
  },
  {
   "cell_type": "code",
   "execution_count": 16,
   "metadata": {
    "button": false,
    "new_sheet": false,
    "run_control": {
     "read_only": false
    }
   },
   "outputs": [
    {
     "data": {
      "image/png": "[encoded data removed]",
      "text/plain": [
       "<Figure size 432x288 with 1 Axes>"
      ]
     },
     "metadata": {
      "needs_background": "light"
     },
     "output_type": "display_data"
    }
   ],
   "source": [
    "# write your code here\n",
    "plt.scatter(cdf.CYLINDERS,cdf.CO2EMISSIONS, color='Steelblue')\n",
    "plt.xlabel('Cylinders')\n",
    "plt.ylabel('Emission')\n",
    "plt.show()\n",
    "\n"
   ]
  },
  {
   "cell_type": "markdown",
   "metadata": {},
   "source": [
    "<details><summary>Click here for the solution</summary>\n",
    "\n",
    "```python\n",
    "plt.scatter(cdf.CYLINDERS, cdf.CO2EMISSIONS, color='blue')\n",
    "plt.xlabel(\"Cylinders\")\n",
    "plt.ylabel(\"Emission\")\n",
    "plt.show()\n",
    "\n",
    "```\n",
    "\n",
    "</details>\n"
   ]
  },
  {
   "cell_type": "markdown",
   "metadata": {
    "button": false,
    "new_sheet": false,
    "run_control": {
     "read_only": false
    }
   },
   "source": [
    "#### Creating train and test dataset\n",
    "\n",
    "Train/Test Split involves splitting the dataset into training and testing sets respectively, which are mutually exclusive. After which, you train with the training set and test with the testing set. \n",
    "This will provide a more accurate evaluation on out-of-sample accuracy because the testing dataset is not part of the dataset that have been used to train the data. It is more realistic for real world problems.\n",
    "\n",
    "This means that we know the outcome of each data point in this dataset, making it great to test with! And since this data has not been used to train the model, the model has no knowledge of the outcome of these data points. So, in essence, it is truly an out-of-sample testing.\n",
    "\n",
    "Lets split our dataset into train and test sets, 80% of the entire data for training, and the 20% for testing. We create a mask to select random rows using **np.random.rand()** function: \n"
   ]
  },
  {
   "cell_type": "code",
   "execution_count": 17,
   "metadata": {
    "button": false,
    "new_sheet": false,
    "run_control": {
     "read_only": false
    }
   },
   "outputs": [],
   "source": [
    "msk = np.random.rand(len(df)) < 0.8\n",
    "train = cdf[msk]\n",
    "test = cdf[~msk]"
   ]
  },
  {
   "cell_type": "markdown",
   "metadata": {
    "button": false,
    "new_sheet": false,
    "run_control": {
     "read_only": false
    }
   },
   "source": [
    "### Simple Regression Model\n",
    "\n",
    "Linear Regression fits a linear model with coefficients B = (B1, ..., Bn) to minimize the 'residual sum of squares' between the actual value y in the dataset, and the predicted value yhat using linear approximation. \n"
   ]
  },
  {
   "cell_type": "markdown",
   "metadata": {
    "button": false,
    "new_sheet": false,
    "run_control": {
     "read_only": false
    }
   },
   "source": [
    "#### Train data distribution\n"
   ]
  },
  {
   "cell_type": "code",
   "execution_count": 18,
   "metadata": {
    "button": false,
    "new_sheet": false,
    "run_control": {
     "read_only": false
    }
   },
   "outputs": [
    {
     "data": {
      "image/png": "[encoded data removed]",
      "text/plain": [
       "<Figure size 432x288 with 1 Axes>"
      ]
     },
     "metadata": {
      "needs_background": "light"
     },
     "output_type": "display_data"
    }
   ],
   "source": [
    "plt.scatter(train.ENGINESIZE, train.CO2EMISSIONS,  color='blue')\n",
    "plt.xlabel(\"Engine size\")\n",
    "plt.ylabel(\"Emission\")\n",
    "plt.show()"
   ]
  },
  {
   "cell_type": "markdown",
   "metadata": {
    "button": false,
    "new_sheet": false,
    "run_control": {
     "read_only": false
    }
   },
   "source": [
    "#### Modeling\n",
    "\n",
    "Using sklearn package to model data.\n"
   ]
  },
  {
   "cell_type": "code",
   "execution_count": 20,
   "metadata": {},
   "outputs": [
    {
     "name": "stdout",
     "output_type": "stream",
     "text": [
      "Collecting sklearn\n",
      "  Downloading sklearn-0.0.tar.gz (1.1 kB)\n",
      "Collecting scikit-learn\n",
      "  Downloading scikit_learn-0.24.2-cp39-cp39-win_amd64.whl (6.9 MB)"
     ]
    },
    {
     "name": "stderr",
     "output_type": "stream",
     "text": [
      "WARNING: You are using pip version 20.2.3; however, version 21.1.1 is available.\n",
      "You should consider upgrading via the 'd:\\python39\\python.exe -m pip install --upgrade pip' command.\n"
     ]
    },
    {
     "name": "stdout",
     "output_type": "stream",
     "text": [
      "\n",
      "Collecting joblib>=0.11\n",
      "  Downloading joblib-1.0.1-py3-none-any.whl (303 kB)\n",
      "Collecting threadpoolctl>=2.0.0\n",
      "  Downloading threadpoolctl-2.1.0-py3-none-any.whl (12 kB)\n",
      "Requirement already satisfied: numpy>=1.13.3 in d:\\python39\\lib\\site-packages (from scikit-learn->sklearn) (1.20.2)\n",
      "Collecting scipy>=0.19.1\n",
      "  Downloading scipy-1.6.3-cp39-cp39-win_amd64.whl (32.7 MB)\n",
      "Building wheels for collected packages: sklearn\n",
      "  Building wheel for sklearn (setup.py): started\n",
      "  Building wheel for sklearn (setup.py): finished with status 'done'\n",
      "  Created wheel for sklearn: filename=sklearn-0.0-py2.py3-none-any.whl size=1316 sha256=21b8824d0603a4e8aa9835f9725d98c240e7da869803a7b59a079716f213d4f1\n",
      "  Stored in directory: c:\\users\\frank\\appdata\\local\\pip\\cache\\wheels\\e4\\7b\\98\\b6466d71b8d738a0c547008b9eb39bf8676d1ff6ca4b22af1c\n",
      "Successfully built sklearn\n",
      "Installing collected packages: joblib, threadpoolctl, scipy, scikit-learn, sklearn\n",
      "Successfully installed joblib-1.0.1 scikit-learn-0.24.2 scipy-1.6.3 sklearn-0.0 threadpoolctl-2.1.0\n"
     ]
    }
   ],
   "source": [
    "!pip install sklearn"
   ]
  },
  {
   "cell_type": "code",
   "execution_count": 72,
   "metadata": {
    "button": false,
    "new_sheet": false,
    "run_control": {
     "read_only": false
    }
   },
   "outputs": [
    {
     "name": "stdout",
     "output_type": "stream",
     "text": [
      "Coefficients:  [[39.60574672]]\n",
      "Intercept:  [123.32388828]\n"
     ]
    }
   ],
   "source": [
    "from sklearn import linear_model\n",
    "regr = linear_model.LinearRegression()\n",
    "train_x = np.asanyarray(train[['ENGINESIZE']])\n",
    "train_y = np.asanyarray(train[['CO2EMISSIONS']])\n",
    "regr.fit (train_x, train_y)\n",
    "# The coefficients\n",
    "print ('Coefficients: ', regr.coef_)\n",
    "print ('Intercept: ',regr.intercept_)"
   ]
  },
  {
   "cell_type": "code",
   "execution_count": 127,
   "metadata": {},
   "outputs": [],
   "source": [
    "from sklearn.linear_model import LinearRegression\n",
    "from sklearn.model_selection import train_test_split"
   ]
  },
  {
   "cell_type": "code",
   "execution_count": 229,
   "metadata": {},
   "outputs": [],
   "source": [
    "y_data = cdf['CO2EMISSIONS']\n",
    "x_data = cdf[['ENGINESIZE']]\n",
    "x_train, x_test, y_train, y_test = train_test_split(x_data, y_data, test_size=0.40, random_state=42)"
   ]
  },
  {
   "cell_type": "code",
   "execution_count": 230,
   "metadata": {},
   "outputs": [
    {
     "data": {
      "text/plain": [
       "LinearRegression()"
      ]
     },
     "execution_count": 230,
     "metadata": {},
     "output_type": "execute_result"
    }
   ],
   "source": [
    "lm= LinearRegression()\n",
    "lm.fit(x_train,y_train)"
   ]
  },
  {
   "cell_type": "code",
   "execution_count": 215,
   "metadata": {},
   "outputs": [
    {
     "data": {
      "text/plain": [
       "array([38.65069602])"
      ]
     },
     "execution_count": 215,
     "metadata": {},
     "output_type": "execute_result"
    }
   ],
   "source": [
    "lm.coef_"
   ]
  },
  {
   "cell_type": "code",
   "execution_count": 216,
   "metadata": {
    "scrolled": true
   },
   "outputs": [
    {
     "data": {
      "text/plain": [
       "127.5626927035733"
      ]
     },
     "execution_count": 216,
     "metadata": {},
     "output_type": "execute_result"
    }
   ],
   "source": [
    "lm.intercept_"
   ]
  },
  {
   "cell_type": "code",
   "execution_count": 234,
   "metadata": {},
   "outputs": [
    {
     "data": {
      "text/plain": [
       "427"
      ]
     },
     "execution_count": 234,
     "metadata": {},
     "output_type": "execute_result"
    }
   ],
   "source": [
    "yhat = lm.predict(x_test)\n",
    "len(yhat)"
   ]
  },
  {
   "cell_type": "code",
   "execution_count": 2,
   "metadata": {},
   "outputs": [],
   "source": [
    "import plotly.express as px"
   ]
  },
  {
   "cell_type": "code",
   "execution_count": 3,
   "metadata": {
    "scrolled": true
   },
   "outputs": [
    {
     "ename": "NameError",
     "evalue": "name 'df' is not defined",
     "output_type": "error",
     "traceback": [
      "\u001b[1;31m---------------------------------------------------------------------------\u001b[0m",
      "\u001b[1;31mNameError\u001b[0m                                 Traceback (most recent call last)",
      "\u001b[1;32m<ipython-input-3-7a61da383798>\u001b[0m in \u001b[0;36m<module>\u001b[1;34m\u001b[0m\n\u001b[1;32m----> 1\u001b[1;33m fig = px.scatter(df, x=x_test['ENGINESIZE'], y=yhat,\n\u001b[0m\u001b[0;32m      2\u001b[0m                  width=800, height=400)\n",
      "\u001b[1;31mNameError\u001b[0m: name 'df' is not defined"
     ]
    }
   ],
   "source": [
    "fig = px.scatter(df, x=x_test['ENGINESIZE'], y=yhat,\n",
    "                 width=800, height=400)"
   ]
  },
  {
   "cell_type": "code",
   "execution_count": 137,
   "metadata": {},
   "outputs": [
    {
     "name": "stdout",
     "output_type": "stream",
     "text": [
      "Mean absolute error: 22.94\n",
      "Residual sum of squares (MSE): 940.05\n",
      "R2-score: 0.78\n"
     ]
    }
   ],
   "source": [
    "test_y = lm.predict(x_test)\n",
    "print(\"Mean absolute error: %.2f\" % np.mean(np.absolute(test_y - y_test)))\n",
    "print(\"Residual sum of squares (MSE): %.2f\" % np.mean((test_y - y_test) ** 2))\n",
    "print(\"R2-score: %.2f\" % r2_score(y_test , test_y) )"
   ]
  },
  {
   "cell_type": "markdown",
   "metadata": {},
   "source": [
    "As mentioned before, **Coefficient** and **Intercept** in the simple linear regression, are the parameters of the fit line. \n",
    "Given that it is a simple linear regression, with only 2 parameters, and knowing that the parameters are the intercept and slope of the line, sklearn can estimate them directly from our data. \n",
    "Notice that all of the data must be available to traverse and calculate the parameters.\n"
   ]
  },
  {
   "cell_type": "code",
   "execution_count": 68,
   "metadata": {},
   "outputs": [],
   "source": [
    "def DistributionPlot(RedFunction, BlueFunction, RedName, BlueName, Title):\n",
    "    width = 12\n",
    "    height = 10\n",
    "    plt.figure(figsize=(width, height))\n",
    "\n",
    "    ax1 = sns.distplot(RedFunction, hist=False, color=\"r\", label=RedName)\n",
    "    ax2 = sns.distplot(BlueFunction, hist=False, color=\"b\", label=BlueName, ax=ax1)\n",
    "\n",
    "    plt.title(Title)\n",
    "    plt.xlabel('Price (in dollars)')\n",
    "    plt.ylabel('Proportion of Cars')\n",
    "\n",
    "    plt.show()\n",
    "    plt.close()\n",
    "\n",
    "def PollyPlot(xtrain, xtest, y_train, y_test, lr,poly_transform):\n",
    "    width = 12\n",
    "    height = 10\n",
    "    plt.figure(figsize=(width, height))\n",
    "    \n",
    "    \n",
    "    #training data \n",
    "    #testing data \n",
    "    # lr:  linear regression object \n",
    "    #poly_transform:  polynomial transformation object \n",
    " \n",
    "    xmax=max([xtrain.values.max(), xtest.values.max()])\n",
    "\n",
    "    xmin=min([xtrain.values.min(), xtest.values.min()])\n",
    "\n",
    "    x=np.arange(xmin, xmax, 0.1)\n",
    "\n",
    "\n",
    "    plt.plot(xtrain, y_train, 'ro', label='Training Data')\n",
    "    plt.plot(xtest, y_test, 'go', label='Test Data')\n",
    "    plt.plot(x, lr.predict(poly_transform.fit_transform(x.reshape(-1, 1))), label='Predicted Function')\n",
    "    plt.ylim([-10000, 60000])\n",
    "    plt.ylabel('Price')\n",
    "    plt.legend()\n"
   ]
  },
  {
   "cell_type": "markdown",
   "metadata": {},
   "source": [
    "### Cross Validation"
   ]
  },
  {
   "cell_type": "code",
   "execution_count": 89,
   "metadata": {},
   "outputs": [],
   "source": [
    "from sklearn.model_selection import cross_val_score\n",
    "from sklearn.model_selection import cross_val_predict"
   ]
  },
  {
   "cell_type": "code",
   "execution_count": 110,
   "metadata": {},
   "outputs": [],
   "source": [
    "Rcross = cross_val_score(lm, x_data, y_data, cv=4)"
   ]
  },
  {
   "cell_type": "code",
   "execution_count": 111,
   "metadata": {
    "scrolled": true
   },
   "outputs": [
    {
     "name": "stdout",
     "output_type": "stream",
     "text": [
      "The mean of the folds are 0.7530572126811899 and the standard deviation is 0.022805207658362154\n"
     ]
    }
   ],
   "source": [
    "print(\"The mean of the folds are\", Rcross.mean(), \"and the standard deviation is\" , Rcross.std())"
   ]
  },
  {
   "cell_type": "code",
   "execution_count": 112,
   "metadata": {},
   "outputs": [
    {
     "data": {
      "text/plain": [
       "0.7512827231516598"
      ]
     },
     "execution_count": 112,
     "metadata": {},
     "output_type": "execute_result"
    }
   ],
   "source": [
    "Rcross1 = cross_val_score(lm,x_data,y_data, cv=6)\n",
    "Rcross1.mean()"
   ]
  },
  {
   "cell_type": "code",
   "execution_count": 113,
   "metadata": {
    "scrolled": true
   },
   "outputs": [
    {
     "name": "stdout",
     "output_type": "stream",
     "text": [
      "   ENGINESIZE\n",
      "0         2.0\n",
      "1         2.4\n",
      "2         1.5\n",
      "3         3.5\n",
      "4         3.5\n",
      "Predicted [243.63685702 181.55131265 204.83339179 204.83339179 305.72240138]\n",
      "Actual Values [274 200 196 161 320]\n"
     ]
    }
   ],
   "source": [
    "yhat2 = cross_val_predict(lm,x_data, y_data,cv=4)\n",
    "print(x_data[0:5])\n",
    "print('Predicted', yhat[0:5])\n",
    "print('Actual Values',y_test[0:5].values)"
   ]
  },
  {
   "cell_type": "code",
   "execution_count": 109,
   "metadata": {},
   "outputs": [],
   "source": [
    "import pandas as pd\n"
   ]
  },
  {
   "cell_type": "code",
   "execution_count": 206,
   "metadata": {},
   "outputs": [],
   "source": [
    "results = pd.DataFrame(x_test,y_test).reset_index()"
   ]
  },
  {
   "cell_type": "code",
   "execution_count": 207,
   "metadata": {},
   "outputs": [],
   "source": [
    "results['PredictedEmissions'] = yhat"
   ]
  },
  {
   "cell_type": "code",
   "execution_count": 208,
   "metadata": {},
   "outputs": [
    {
     "data": {
      "text/html": [
       "<div>\n",
       "<style scoped>\n",
       "    .dataframe tbody tr th:only-of-type {\n",
       "        vertical-align: middle;\n",
       "    }\n",
       "\n",
       "    .dataframe tbody tr th {\n",
       "        vertical-align: top;\n",
       "    }\n",
       "\n",
       "    .dataframe thead th {\n",
       "        text-align: right;\n",
       "    }\n",
       "</style>\n",
       "<table border=\"1\" class=\"dataframe\">\n",
       "  <thead>\n",
       "    <tr style=\"text-align: right;\">\n",
       "      <th></th>\n",
       "      <th>CO2EMISSIONS</th>\n",
       "      <th>ENGINESIZE</th>\n",
       "      <th>PredictedEmissions</th>\n",
       "    </tr>\n",
       "  </thead>\n",
       "  <tbody>\n",
       "    <tr>\n",
       "      <th>0</th>\n",
       "      <td>304</td>\n",
       "      <td>NaN</td>\n",
       "      <td>309.220964</td>\n",
       "    </tr>\n",
       "    <tr>\n",
       "      <th>1</th>\n",
       "      <td>221</td>\n",
       "      <td>5.3</td>\n",
       "      <td>262.840129</td>\n",
       "    </tr>\n",
       "    <tr>\n",
       "      <th>2</th>\n",
       "      <td>294</td>\n",
       "      <td>2.4</td>\n",
       "      <td>266.705198</td>\n",
       "    </tr>\n",
       "    <tr>\n",
       "      <th>3</th>\n",
       "      <td>221</td>\n",
       "      <td>5.3</td>\n",
       "      <td>243.514781</td>\n",
       "    </tr>\n",
       "    <tr>\n",
       "      <th>4</th>\n",
       "      <td>207</td>\n",
       "      <td>NaN</td>\n",
       "      <td>204.864085</td>\n",
       "    </tr>\n",
       "    <tr>\n",
       "      <th>5</th>\n",
       "      <td>246</td>\n",
       "      <td>NaN</td>\n",
       "      <td>243.514781</td>\n",
       "    </tr>\n",
       "    <tr>\n",
       "      <th>6</th>\n",
       "      <td>259</td>\n",
       "      <td>1.2</td>\n",
       "      <td>266.705198</td>\n",
       "    </tr>\n",
       "    <tr>\n",
       "      <th>7</th>\n",
       "      <td>310</td>\n",
       "      <td>3.6</td>\n",
       "      <td>282.165477</td>\n",
       "    </tr>\n",
       "    <tr>\n",
       "      <th>8</th>\n",
       "      <td>310</td>\n",
       "      <td>3.6</td>\n",
       "      <td>320.816173</td>\n",
       "    </tr>\n",
       "    <tr>\n",
       "      <th>9</th>\n",
       "      <td>264</td>\n",
       "      <td>NaN</td>\n",
       "      <td>266.705198</td>\n",
       "    </tr>\n",
       "    <tr>\n",
       "      <th>10</th>\n",
       "      <td>230</td>\n",
       "      <td>NaN</td>\n",
       "      <td>266.705198</td>\n",
       "    </tr>\n",
       "    <tr>\n",
       "      <th>11</th>\n",
       "      <td>393</td>\n",
       "      <td>NaN</td>\n",
       "      <td>386.522356</td>\n",
       "    </tr>\n",
       "    <tr>\n",
       "      <th>12</th>\n",
       "      <td>258</td>\n",
       "      <td>NaN</td>\n",
       "      <td>251.244920</td>\n",
       "    </tr>\n",
       "    <tr>\n",
       "      <th>13</th>\n",
       "      <td>246</td>\n",
       "      <td>NaN</td>\n",
       "      <td>262.840129</td>\n",
       "    </tr>\n",
       "    <tr>\n",
       "      <th>14</th>\n",
       "      <td>269</td>\n",
       "      <td>NaN</td>\n",
       "      <td>266.705198</td>\n",
       "    </tr>\n",
       "    <tr>\n",
       "      <th>15</th>\n",
       "      <td>255</td>\n",
       "      <td>NaN</td>\n",
       "      <td>262.840129</td>\n",
       "    </tr>\n",
       "    <tr>\n",
       "      <th>16</th>\n",
       "      <td>232</td>\n",
       "      <td>NaN</td>\n",
       "      <td>189.403806</td>\n",
       "    </tr>\n",
       "    <tr>\n",
       "      <th>17</th>\n",
       "      <td>242</td>\n",
       "      <td>NaN</td>\n",
       "      <td>266.705198</td>\n",
       "    </tr>\n",
       "    <tr>\n",
       "      <th>18</th>\n",
       "      <td>184</td>\n",
       "      <td>3.6</td>\n",
       "      <td>189.403806</td>\n",
       "    </tr>\n",
       "    <tr>\n",
       "      <th>19</th>\n",
       "      <td>299</td>\n",
       "      <td>5.7</td>\n",
       "      <td>332.411382</td>\n",
       "    </tr>\n",
       "    <tr>\n",
       "      <th>20</th>\n",
       "      <td>334</td>\n",
       "      <td>1.4</td>\n",
       "      <td>320.816173</td>\n",
       "    </tr>\n",
       "    <tr>\n",
       "      <th>21</th>\n",
       "      <td>216</td>\n",
       "      <td>NaN</td>\n",
       "      <td>197.133946</td>\n",
       "    </tr>\n",
       "    <tr>\n",
       "      <th>22</th>\n",
       "      <td>267</td>\n",
       "      <td>NaN</td>\n",
       "      <td>251.244920</td>\n",
       "    </tr>\n",
       "    <tr>\n",
       "      <th>23</th>\n",
       "      <td>235</td>\n",
       "      <td>2.4</td>\n",
       "      <td>270.570268</td>\n",
       "    </tr>\n",
       "    <tr>\n",
       "      <th>24</th>\n",
       "      <td>285</td>\n",
       "      <td>5.7</td>\n",
       "      <td>243.514781</td>\n",
       "    </tr>\n",
       "  </tbody>\n",
       "</table>\n",
       "</div>"
      ],
      "text/plain": [
       "    CO2EMISSIONS  ENGINESIZE  PredictedEmissions\n",
       "0            304         NaN          309.220964\n",
       "1            221         5.3          262.840129\n",
       "2            294         2.4          266.705198\n",
       "3            221         5.3          243.514781\n",
       "4            207         NaN          204.864085\n",
       "5            246         NaN          243.514781\n",
       "6            259         1.2          266.705198\n",
       "7            310         3.6          282.165477\n",
       "8            310         3.6          320.816173\n",
       "9            264         NaN          266.705198\n",
       "10           230         NaN          266.705198\n",
       "11           393         NaN          386.522356\n",
       "12           258         NaN          251.244920\n",
       "13           246         NaN          262.840129\n",
       "14           269         NaN          266.705198\n",
       "15           255         NaN          262.840129\n",
       "16           232         NaN          189.403806\n",
       "17           242         NaN          266.705198\n",
       "18           184         3.6          189.403806\n",
       "19           299         5.7          332.411382\n",
       "20           334         1.4          320.816173\n",
       "21           216         NaN          197.133946\n",
       "22           267         NaN          251.244920\n",
       "23           235         2.4          270.570268\n",
       "24           285         5.7          243.514781"
      ]
     },
     "execution_count": 208,
     "metadata": {},
     "output_type": "execute_result"
    }
   ],
   "source": [
    "results.head(25)"
   ]
  },
  {
   "cell_type": "code",
   "execution_count": 246,
   "metadata": {},
   "outputs": [
    {
     "ename": "TypeError",
     "evalue": "scatter() got an unexpected keyword argument 'ylabel'",
     "output_type": "error",
     "traceback": [
      "\u001b[1;31m---------------------------------------------------------------------------\u001b[0m",
      "\u001b[1;31mTypeError\u001b[0m                                 Traceback (most recent call last)",
      "\u001b[1;32m<ipython-input-246-73edc4eef49f>\u001b[0m in \u001b[0;36m<module>\u001b[1;34m\u001b[0m\n\u001b[1;32m----> 1\u001b[1;33m fig = px.scatter(results, x='ENGINESIZE', y=['PredictedEmissions','CO2EMISSIONS'],\n\u001b[0m\u001b[0;32m      2\u001b[0m                  width=800, height=400, title = 'Predicted CO2EMISSIONS vs Actual CO2EMISSIONS', ylabel = 'Emissions')\n",
      "\u001b[1;31mTypeError\u001b[0m: scatter() got an unexpected keyword argument 'ylabel'"
     ]
    }
   ],
   "source": [
    "fig = px.scatter(results, x='ENGINESIZE', y=['PredictedEmissions','CO2EMISSIONS'],\n",
    "                 width=800, height=400, title = 'Predicted CO2EMISSIONS vs Actual CO2EMISSIONS')"
   ]
  },
  {
   "cell_type": "code",
   "execution_count": 263,
   "metadata": {},
   "outputs": [
    {
     "data": {
      "application/vnd.plotly.v1+json": {
       "config": {
        "plotlyServerURL": "https://plot.ly"
       },
       "data": [
        {
         "hovertemplate": "variable=PredictedEmissions<br>ENGINESIZE=%{x}<br>value=%{y}<extra></extra>",
         "legendgroup": "PredictedEmissions",
         "marker": {
          "color": "#636efa",
          "symbol": "circle"
         },
         "mode": "markers",
         "name": "PredictedEmissions",
         "orientation": "v",
         "showlegend": true,
         "type": "scatter",
         "x": [
          null,
          5.3,
          2.4,
          5.3,
          null,
          null,
          1.2,
          3.6,
          3.6,
          null,
          null,
          null,
          null,
          null,
          null,
          null,
          null,
          null,
          3.6,
          5.7,
          1.4,
          null,
          null,
          2.4,
          5.7,
          6.2,
          3.6,
          null,
          null,
          1.4,
          5.4,
          6.2,
          null,
          3.5,
          6,
          null,
          1.2,
          5.4,
          6.2,
          6.2,
          null,
          6.2,
          6.2,
          null,
          null,
          null,
          5.3,
          null,
          null,
          null,
          3.6,
          3.6,
          null,
          3.6,
          3.6,
          null,
          4.6,
          null,
          6.2,
          6.4,
          null,
          null,
          3.6,
          null,
          null,
          4.3,
          null,
          2.4,
          null,
          null,
          2.4,
          null,
          null,
          null,
          null,
          4.3,
          5,
          3.7,
          null,
          null,
          null,
          6.2,
          null,
          2.4,
          null,
          null,
          null,
          null,
          null,
          null,
          5.3,
          null,
          null,
          null,
          null,
          null,
          null,
          null,
          2.4,
          1.6,
          null,
          null,
          6.4,
          null,
          null,
          null,
          6,
          3.6,
          null,
          4.8,
          null,
          null,
          null,
          6,
          null,
          1.2,
          null,
          null,
          2.4,
          null,
          null,
          null,
          2.4,
          null,
          null,
          null,
          6.4,
          3.6,
          2.4,
          null,
          6.2,
          4.8,
          null,
          6.2,
          3.6,
          null,
          null,
          null,
          null,
          6.4,
          null,
          5.3,
          3.6,
          null,
          null,
          null,
          null,
          4.4,
          5.7,
          5.4,
          2.4,
          null,
          null,
          5.7,
          3.6,
          null,
          3.6,
          5.3,
          null,
          null,
          null,
          3.6,
          null,
          null,
          null,
          2.4,
          4.3,
          3.6,
          4.3,
          null,
          4.3,
          null,
          1.6,
          null,
          5,
          null,
          5.3,
          3.6,
          1.4,
          null,
          null,
          null,
          2.4,
          2,
          3.6,
          6.4,
          5,
          null,
          null,
          2,
          null,
          3.6,
          null,
          3.6,
          null,
          3.6,
          5.3,
          null,
          null,
          null,
          2,
          null,
          3.6,
          6.2,
          null,
          2,
          3.6,
          null,
          null,
          5.3,
          null,
          null,
          1.2,
          null,
          null,
          3.6,
          null,
          null,
          5,
          null,
          null,
          2.4,
          null,
          6.4,
          1.4,
          null,
          null,
          1.4,
          null,
          3.6,
          null,
          null,
          null,
          2.4,
          null,
          null,
          3.6,
          4.8,
          3.6,
          1.2,
          null,
          null,
          null,
          null,
          null,
          null,
          null,
          3.6,
          null,
          3.6,
          null,
          null,
          5,
          null,
          3.6,
          null,
          1.4,
          2.4,
          null,
          3.5,
          3.6,
          6.2,
          3.6,
          null,
          5.7,
          6.4,
          null,
          null,
          5.3,
          null,
          3.6,
          null,
          3.6,
          null,
          5.3,
          3.6,
          2.4,
          null,
          null,
          null,
          1.4,
          null,
          null,
          null,
          5.7,
          null,
          4.3,
          null,
          3.6,
          null,
          null,
          6.2,
          5.3,
          5.4,
          5,
          5.3,
          null,
          2.4,
          3.6,
          6,
          null,
          null,
          null,
          null,
          5,
          5.3,
          null,
          null,
          null,
          3.6,
          null,
          null,
          null,
          null,
          3.6,
          null,
          null,
          1.4,
          null,
          6.2,
          null,
          null,
          null,
          null,
          null,
          null,
          1.4,
          3.6,
          4.3,
          null,
          3.6,
          null,
          null,
          null,
          null,
          2.4,
          null,
          null,
          null,
          2.4,
          5.3,
          6,
          null,
          null,
          6.2,
          6,
          3.6,
          5.4,
          5.3,
          3.6,
          null,
          6.2,
          null,
          null,
          4.3,
          3.6,
          3.6,
          null,
          null,
          null,
          null,
          null,
          null,
          null,
          null,
          5.3,
          null,
          5,
          null,
          null,
          5.3,
          1.4,
          null,
          1.2,
          1.6,
          null,
          3.6,
          5.3,
          5.3,
          3.6,
          null,
          5.7,
          3.6,
          null,
          2.4,
          null,
          null,
          null,
          null,
          null,
          5.3,
          1.2,
          null,
          2.4,
          null,
          null,
          null,
          null,
          1.5,
          null,
          null,
          1.4,
          null,
          null,
          null,
          null,
          4.3,
          6.2,
          3.6,
          null,
          2.4,
          5.7,
          null,
          6.2,
          2.4,
          null,
          null,
          6,
          5.3,
          null,
          null,
          6.2,
          null,
          null,
          null,
          null,
          null
         ],
         "xaxis": "x",
         "y": [
          309.2209640118707,
          262.84012878422027,
          266.7051983865245,
          243.51478077269928,
          204.8640847496573,
          243.51478077269928,
          266.7051983865245,
          282.16547679574126,
          320.8161728187833,
          266.7051983865245,
          266.7051983865245,
          386.52235605795465,
          251.2449199773077,
          262.84012878422027,
          266.7051983865245,
          262.84012878422027,
          189.4038063404405,
          266.7051983865245,
          189.4038063404405,
          332.41138162569587,
          320.8161728187833,
          197.1339455450489,
          251.2449199773077,
          270.57026798882873,
          243.51478077269928,
          197.1339455450489,
          204.8640847496573,
          189.4038063404405,
          340.1415208303043,
          251.2449199773077,
          336.2764512280001,
          220.3243631588741,
          197.1339455450489,
          320.8161728187833,
          243.51478077269928,
          309.2209640118707,
          282.16547679574126,
          332.41138162569587,
          204.8640847496573,
          224.1894327611783,
          189.4038063404405,
          189.4038063404405,
          181.6736671358321,
          224.1894327611783,
          282.16547679574126,
          189.4038063404405,
          243.51478077269928,
          243.51478077269928,
          204.8640847496573,
          328.5463120233917,
          367.19700804643367,
          266.7051983865245,
          204.8640847496573,
          270.57026798882873,
          243.51478077269928,
          332.41138162569587,
          332.41138162569587,
          347.8716600349127,
          204.8640847496573,
          293.7606856026539,
          282.16547679574126,
          293.7606856026539,
          297.62575520495807,
          266.7051983865245,
          189.4038063404405,
          258.9750591819161,
          181.6736671358321,
          313.0860336141749,
          243.51478077269928,
          270.57026798882873,
          320.8161728187833,
          204.8640847496573,
          262.84012878422027,
          204.8640847496573,
          204.8640847496573,
          266.7051983865245,
          332.41138162569587,
          367.19700804643367,
          367.19700804643367,
          262.84012878422027,
          220.3243631588741,
          197.1339455450489,
          231.9195719657867,
          262.84012878422027,
          189.4038063404405,
          243.51478077269928,
          243.51478077269928,
          204.8640847496573,
          347.8716600349127,
          204.8640847496573,
          231.9195719657867,
          289.8956160003497,
          262.84012878422027,
          197.1339455450489,
          204.8640847496573,
          204.8640847496573,
          220.3243631588741,
          262.84012878422027,
          266.7051983865245,
          344.0065904326085,
          367.19700804643367,
          224.1894327611783,
          266.7051983865245,
          220.3243631588741,
          266.7051983865245,
          166.2133887266153,
          243.51478077269928,
          204.8640847496573,
          220.3243631588741,
          204.8640847496573,
          185.5387367381363,
          262.84012878422027,
          266.7051983865245,
          231.9195719657867,
          305.3558944095665,
          266.7051983865245,
          270.57026798882873,
          313.0860336141749,
          266.7051983865245,
          189.4038063404405,
          262.84012878422027,
          185.5387367381363,
          231.9195719657867,
          197.1339455450489,
          243.51478077269928,
          220.3243631588741,
          266.7051983865245,
          204.8640847496573,
          347.8716600349127,
          204.8640847496573,
          189.4038063404405,
          189.4038063404405,
          359.46686884182526,
          197.1339455450489,
          262.84012878422027,
          243.51478077269928,
          243.51478077269928,
          340.1415208303043,
          204.8640847496573,
          282.16547679574126,
          347.8716600349127,
          262.84012878422027,
          189.4038063404405,
          266.7051983865245,
          181.6736671358321,
          262.84012878422027,
          266.7051983865245,
          197.1339455450489,
          293.7606856026539,
          328.5463120233917,
          204.8640847496573,
          262.84012878422027,
          251.2449199773077,
          243.51478077269928,
          243.51478077269928,
          293.7606856026539,
          320.8161728187833,
          243.51478077269928,
          197.1339455450489,
          266.7051983865245,
          374.9271472510421,
          340.1415208303043,
          204.8640847496573,
          266.7051983865245,
          220.3243631588741,
          266.7051983865245,
          231.9195719657867,
          347.8716600349127,
          204.8640847496573,
          181.6736671358321,
          204.8640847496573,
          367.19700804643367,
          355.6017992395211,
          274.4353375911329,
          336.2764512280001,
          197.1339455450489,
          262.84012878422027,
          204.8640847496573,
          274.4353375911329,
          243.51478077269928,
          197.1339455450489,
          204.8640847496573,
          243.51478077269928,
          336.2764512280001,
          224.1894327611783,
          320.8161728187833,
          332.41138162569587,
          173.94352793122368,
          189.4038063404405,
          185.5387367381363,
          224.1894327611783,
          197.1339455450489,
          224.1894327611783,
          189.4038063404405,
          189.4038063404405,
          197.1339455450489,
          262.84012878422027,
          204.8640847496573,
          274.4353375911329,
          204.8640847496573,
          320.8161728187833,
          185.5387367381363,
          305.3558944095665,
          220.3243631588741,
          347.8716600349127,
          359.46686884182526,
          220.3243631588741,
          204.8640847496573,
          332.41138162569587,
          204.8640847496573,
          220.3243631588741,
          220.3243631588741,
          243.51478077269928,
          452.2285392971261,
          181.6736671358321,
          297.62575520495807,
          243.51478077269928,
          243.51478077269928,
          332.41138162569587,
          297.62575520495807,
          270.57026798882873,
          204.8640847496573,
          282.16547679574126,
          266.7051983865245,
          289.8956160003497,
          220.3243631588741,
          378.7922168533463,
          320.8161728187833,
          347.8716600349127,
          270.57026798882873,
          367.19700804643367,
          262.84012878422027,
          266.7051983865245,
          220.3243631588741,
          266.7051983865245,
          204.8640847496573,
          204.8640847496573,
          224.1894327611783,
          181.6736671358321,
          266.7051983865245,
          266.7051983865245,
          266.7051983865245,
          282.16547679574126,
          204.8640847496573,
          262.84012878422027,
          344.0065904326085,
          224.1894327611783,
          282.16547679574126,
          262.84012878422027,
          189.4038063404405,
          204.8640847496573,
          262.84012878422027,
          332.41138162569587,
          270.57026798882873,
          204.8640847496573,
          382.6572864556505,
          270.57026798882873,
          344.0065904326085,
          266.7051983865245,
          367.19700804643367,
          243.51478077269928,
          181.6736671358321,
          297.62575520495807,
          293.7606856026539,
          320.8161728187833,
          270.57026798882873,
          204.8640847496573,
          266.7051983865245,
          220.3243631588741,
          332.41138162569587,
          347.8716600349127,
          340.1415208303043,
          189.4038063404405,
          243.51478077269928,
          262.84012878422027,
          282.16547679574126,
          243.51478077269928,
          189.4038063404405,
          220.3243631588741,
          243.51478077269928,
          266.7051983865245,
          181.6736671358321,
          220.3243631588741,
          204.8640847496573,
          243.51478077269928,
          336.2764512280001,
          220.3243631588741,
          313.0860336141749,
          204.8640847496573,
          262.84012878422027,
          266.7051983865245,
          197.1339455450489,
          204.8640847496573,
          305.3558944095665,
          332.41138162569587,
          220.3243631588741,
          351.73672963721685,
          320.8161728187833,
          181.6736671358321,
          204.8640847496573,
          231.9195719657867,
          197.1339455450489,
          224.1894327611783,
          282.16547679574126,
          359.46686884182526,
          243.51478077269928,
          243.51478077269928,
          204.8640847496573,
          173.94352793122368,
          220.3243631588741,
          243.51478077269928,
          305.3558944095665,
          320.8161728187833,
          204.8640847496573,
          204.8640847496573,
          189.4038063404405,
          204.8640847496573,
          332.41138162569587,
          367.19700804643367,
          185.5387367381363,
          224.1894327611783,
          204.8640847496573,
          266.7051983865245,
          336.2764512280001,
          262.84012878422027,
          266.7051983865245,
          204.8640847496573,
          297.62575520495807,
          243.51478077269928,
          181.6736671358321,
          367.19700804643367,
          204.8640847496573,
          359.46686884182526,
          266.7051983865245,
          266.7051983865245,
          332.41138162569587,
          220.3243631588741,
          332.41138162569587,
          320.8161728187833,
          332.41138162569587,
          262.84012878422027,
          231.9195719657867,
          297.62575520495807,
          224.1894327611783,
          197.1339455450489,
          224.1894327611783,
          347.8716600349127,
          332.41138162569587,
          220.3243631588741,
          204.8640847496573,
          367.19700804643367,
          189.4038063404405,
          204.8640847496573,
          189.4038063404405,
          243.51478077269928,
          224.1894327611783,
          332.41138162569587,
          262.84012878422027,
          332.41138162569587,
          274.4353375911329,
          313.0860336141749,
          270.57026798882873,
          359.46686884182526,
          224.1894327611783,
          220.3243631588741,
          189.4038063404405,
          274.4353375911329,
          367.19700804643367,
          224.1894327611783,
          189.4038063404405,
          204.8640847496573,
          224.1894327611783,
          197.1339455450489,
          262.84012878422027,
          382.6572864556505,
          270.57026798882873,
          185.5387367381363,
          220.3243631588741,
          204.8640847496573,
          266.7051983865245,
          313.0860336141749,
          266.7051983865245,
          243.51478077269928,
          185.5387367381363,
          231.9195719657867,
          189.4038063404405,
          220.3243631588741,
          320.8161728187833,
          270.57026798882873,
          173.94352793122368,
          224.1894327611783,
          220.3243631588741,
          220.3243631588741,
          262.84012878422027,
          204.8640847496573,
          189.4038063404405,
          208.72915435196148,
          266.7051983865245,
          359.46686884182526,
          204.8640847496573,
          189.4038063404405,
          332.41138162569587,
          262.84012878422027,
          204.8640847496573,
          220.3243631588741,
          266.7051983865245,
          262.84012878422027,
          185.5387367381363,
          204.8640847496573,
          220.3243631588741,
          243.51478077269928,
          243.51478077269928,
          243.51478077269928,
          189.4038063404405,
          266.7051983865245,
          204.8640847496573,
          262.84012878422027,
          224.1894327611783,
          270.57026798882873,
          274.4353375911329,
          270.57026798882873,
          204.8640847496573,
          204.8640847496573,
          320.8161728187833,
          220.3243631588741,
          189.4038063404405,
          262.84012878422027
         ],
         "yaxis": "y"
        },
        {
         "hovertemplate": "variable=CO2EMISSIONS<br>ENGINESIZE=%{x}<br>value=%{y}<extra></extra>",
         "legendgroup": "CO2EMISSIONS",
         "marker": {
          "color": "#EF553B",
          "symbol": "circle"
         },
         "mode": "markers",
         "name": "CO2EMISSIONS",
         "orientation": "v",
         "showlegend": true,
         "type": "scatter",
         "x": [
          null,
          5.3,
          2.4,
          5.3,
          null,
          null,
          1.2,
          3.6,
          3.6,
          null,
          null,
          null,
          null,
          null,
          null,
          null,
          null,
          null,
          3.6,
          5.7,
          1.4,
          null,
          null,
          2.4,
          5.7,
          6.2,
          3.6,
          null,
          null,
          1.4,
          5.4,
          6.2,
          null,
          3.5,
          6,
          null,
          1.2,
          5.4,
          6.2,
          6.2,
          null,
          6.2,
          6.2,
          null,
          null,
          null,
          5.3,
          null,
          null,
          null,
          3.6,
          3.6,
          null,
          3.6,
          3.6,
          null,
          4.6,
          null,
          6.2,
          6.4,
          null,
          null,
          3.6,
          null,
          null,
          4.3,
          null,
          2.4,
          null,
          null,
          2.4,
          null,
          null,
          null,
          null,
          4.3,
          5,
          3.7,
          null,
          null,
          null,
          6.2,
          null,
          2.4,
          null,
          null,
          null,
          null,
          null,
          null,
          5.3,
          null,
          null,
          null,
          null,
          null,
          null,
          null,
          2.4,
          1.6,
          null,
          null,
          6.4,
          null,
          null,
          null,
          6,
          3.6,
          null,
          4.8,
          null,
          null,
          null,
          6,
          null,
          1.2,
          null,
          null,
          2.4,
          null,
          null,
          null,
          2.4,
          null,
          null,
          null,
          6.4,
          3.6,
          2.4,
          null,
          6.2,
          4.8,
          null,
          6.2,
          3.6,
          null,
          null,
          null,
          null,
          6.4,
          null,
          5.3,
          3.6,
          null,
          null,
          null,
          null,
          4.4,
          5.7,
          5.4,
          2.4,
          null,
          null,
          5.7,
          3.6,
          null,
          3.6,
          5.3,
          null,
          null,
          null,
          3.6,
          null,
          null,
          null,
          2.4,
          4.3,
          3.6,
          4.3,
          null,
          4.3,
          null,
          1.6,
          null,
          5,
          null,
          5.3,
          3.6,
          1.4,
          null,
          null,
          null,
          2.4,
          2,
          3.6,
          6.4,
          5,
          null,
          null,
          2,
          null,
          3.6,
          null,
          3.6,
          null,
          3.6,
          5.3,
          null,
          null,
          null,
          2,
          null,
          3.6,
          6.2,
          null,
          2,
          3.6,
          null,
          null,
          5.3,
          null,
          null,
          1.2,
          null,
          null,
          3.6,
          null,
          null,
          5,
          null,
          null,
          2.4,
          null,
          6.4,
          1.4,
          null,
          null,
          1.4,
          null,
          3.6,
          null,
          null,
          null,
          2.4,
          null,
          null,
          3.6,
          4.8,
          3.6,
          1.2,
          null,
          null,
          null,
          null,
          null,
          null,
          null,
          3.6,
          null,
          3.6,
          null,
          null,
          5,
          null,
          3.6,
          null,
          1.4,
          2.4,
          null,
          3.5,
          3.6,
          6.2,
          3.6,
          null,
          5.7,
          6.4,
          null,
          null,
          5.3,
          null,
          3.6,
          null,
          3.6,
          null,
          5.3,
          3.6,
          2.4,
          null,
          null,
          null,
          1.4,
          null,
          null,
          null,
          5.7,
          null,
          4.3,
          null,
          3.6,
          null,
          null,
          6.2,
          5.3,
          5.4,
          5,
          5.3,
          null,
          2.4,
          3.6,
          6,
          null,
          null,
          null,
          null,
          5,
          5.3,
          null,
          null,
          null,
          3.6,
          null,
          null,
          null,
          null,
          3.6,
          null,
          null,
          1.4,
          null,
          6.2,
          null,
          null,
          null,
          null,
          null,
          null,
          1.4,
          3.6,
          4.3,
          null,
          3.6,
          null,
          null,
          null,
          null,
          2.4,
          null,
          null,
          null,
          2.4,
          5.3,
          6,
          null,
          null,
          6.2,
          6,
          3.6,
          5.4,
          5.3,
          3.6,
          null,
          6.2,
          null,
          null,
          4.3,
          3.6,
          3.6,
          null,
          null,
          null,
          null,
          null,
          null,
          null,
          null,
          5.3,
          null,
          5,
          null,
          null,
          5.3,
          1.4,
          null,
          1.2,
          1.6,
          null,
          3.6,
          5.3,
          5.3,
          3.6,
          null,
          5.7,
          3.6,
          null,
          2.4,
          null,
          null,
          null,
          null,
          null,
          5.3,
          1.2,
          null,
          2.4,
          null,
          null,
          null,
          null,
          1.5,
          null,
          null,
          1.4,
          null,
          null,
          null,
          null,
          4.3,
          6.2,
          3.6,
          null,
          2.4,
          5.7,
          null,
          6.2,
          2.4,
          null,
          null,
          6,
          5.3,
          null,
          null,
          6.2,
          null,
          null,
          null,
          null,
          null
         ],
         "xaxis": "x",
         "y": [
          304,
          221,
          294,
          221,
          207,
          246,
          259,
          310,
          310,
          264,
          230,
          393,
          258,
          246,
          269,
          255,
          232,
          242,
          184,
          299,
          334,
          216,
          267,
          235,
          285,
          196,
          209,
          175,
          297,
          248,
          346,
          196,
          216,
          354,
          228,
          264,
          260,
          362,
          196,
          196,
          152,
          177,
          182,
          207,
          301,
          207,
          244,
          278,
          179,
          400,
          292,
          308,
          225,
          281,
          292,
          317,
          344,
          324,
          177,
          290,
          320,
          271,
          281,
          251,
          191,
          237,
          179,
          294,
          267,
          269,
          280,
          189,
          264,
          216,
          230,
          237,
          380,
          377,
          340,
          251,
          186,
          182,
          251,
          294,
          191,
          278,
          191,
          161,
          340,
          166,
          212,
          407,
          175,
          156,
          197,
          193,
          225,
          189,
          294,
          359,
          347,
          207,
          290,
          255,
          229,
          152,
          228,
          209,
          225,
          223,
          186,
          229,
          276,
          228,
          347,
          260,
          283,
          414,
          294,
          207,
          253,
          145,
          235,
          129,
          232,
          200,
          290,
          184,
          294,
          202,
          196,
          223,
          435,
          177,
          308,
          258,
          258,
          297,
          200,
          290,
          301,
          265,
          184,
          251,
          179,
          255,
          269,
          110,
          285,
          361,
          235,
          253,
          264,
          285,
          292,
          347,
          310,
          213,
          175,
          251,
          317,
          310,
          195,
          222,
          230,
          294,
          237,
          331,
          237,
          207,
          237,
          340,
          359,
          274,
          382,
          179,
          244,
          209,
          334,
          264,
          202,
          138,
          275,
          360,
          168,
          290,
          380,
          159,
          179,
          136,
          175,
          184,
          189,
          184,
          214,
          184,
          244,
          191,
          274,
          214,
          318,
          108,
          329,
          182,
          340,
          411,
          209,
          225,
          317,
          212,
          230,
          232,
          260,
          389,
          179,
          292,
          267,
          262,
          380,
          338,
          253,
          235,
          322,
          290,
          336,
          216,
          421,
          336,
          384,
          281,
          366,
          271,
          276,
          235,
          222,
          145,
          165,
          223,
          184,
          259,
          283,
          272,
          297,
          216,
          189,
          283,
          225,
          281,
          288,
          184,
          200,
          175,
          380,
          269,
          184,
          368,
          248,
          294,
          251,
          354,
          281,
          182,
          292,
          271,
          306,
          290,
          216,
          258,
          212,
          317,
          308,
          301,
          184,
          278,
          244,
          292,
          235,
          175,
          216,
          224,
          248,
          173,
          255,
          161,
          285,
          368,
          237,
          315,
          209,
          278,
          274,
          182,
          218,
          350,
          380,
          244,
          304,
          280,
          168,
          228,
          271,
          191,
          207,
          297,
          380,
          221,
          258,
          214,
          159,
          209,
          283,
          320,
          320,
          200,
          209,
          179,
          200,
          334,
          324,
          177,
          202,
          283,
          255,
          421,
          230,
          251,
          198,
          292,
          237,
          179,
          329,
          186,
          432,
          301,
          242,
          294,
          230,
          317,
          315,
          294,
          221,
          228,
          338,
          186,
          182,
          228,
          308,
          362,
          212,
          184,
          258,
          196,
          193,
          186,
          237,
          168,
          292,
          274,
          366,
          274,
          419,
          255,
          435,
          258,
          251,
          218,
          322,
          382,
          216,
          200,
          221,
          198,
          191,
          260,
          359,
          255,
          168,
          218,
          221,
          308,
          414,
          285,
          281,
          159,
          235,
          175,
          230,
          304,
          267,
          147,
          218,
          260,
          145,
          235,
          207,
          179,
          194,
          262,
          413,
          202,
          207,
          334,
          251,
          181,
          189,
          258,
          237,
          196,
          163,
          255,
          294,
          285,
          274,
          196,
          235,
          162,
          172,
          228,
          265,
          253,
          264,
          196,
          230,
          315,
          202,
          179,
          271
         ],
         "yaxis": "y"
        }
       ],
       "layout": {
        "autosize": false,
        "height": 500,
        "legend": {
         "title": {
          "text": "variable"
         },
         "tracegroupgap": 0
        },
        "template": {
         "data": {
          "bar": [
           {
            "error_x": {
             "color": "#2a3f5f"
            },
            "error_y": {
             "color": "#2a3f5f"
            },
            "marker": {
             "line": {
              "color": "#E5ECF6",
              "width": 0.5
             }
            },
            "type": "bar"
           }
          ],
          "barpolar": [
           {
            "marker": {
             "line": {
              "color": "#E5ECF6",
              "width": 0.5
             }
            },
            "type": "barpolar"
           }
          ],
          "carpet": [
           {
            "aaxis": {
             "endlinecolor": "#2a3f5f",
             "gridcolor": "white",
             "linecolor": "white",
             "minorgridcolor": "white",
             "startlinecolor": "#2a3f5f"
            },
            "baxis": {
             "endlinecolor": "#2a3f5f",
             "gridcolor": "white",
             "linecolor": "white",
             "minorgridcolor": "white",
             "startlinecolor": "#2a3f5f"
            },
            "type": "carpet"
           }
          ],
          "choropleth": [
           {
            "colorbar": {
             "outlinewidth": 0,
             "ticks": ""
            },
            "type": "choropleth"
           }
          ],
          "contour": [
           {
            "colorbar": {
             "outlinewidth": 0,
             "ticks": ""
            },
            "colorscale": [
             [
              0,
              "#0d0887"
             ],
             [
              0.1111111111111111,
              "#46039f"
             ],
             [
              0.2222222222222222,
              "#7201a8"
             ],
             [
              0.3333333333333333,
              "#9c179e"
             ],
             [
              0.4444444444444444,
              "#bd3786"
             ],
             [
              0.5555555555555556,
              "#d8576b"
             ],
             [
              0.6666666666666666,
              "#ed7953"
             ],
             [
              0.7777777777777778,
              "#fb9f3a"
             ],
             [
              0.8888888888888888,
              "#fdca26"
             ],
             [
              1,
              "#f0f921"
             ]
            ],
            "type": "contour"
           }
          ],
          "contourcarpet": [
           {
            "colorbar": {
             "outlinewidth": 0,
             "ticks": ""
            },
            "type": "contourcarpet"
           }
          ],
          "heatmap": [
           {
            "colorbar": {
             "outlinewidth": 0,
             "ticks": ""
            },
            "colorscale": [
             [
              0,
              "#0d0887"
             ],
             [
              0.1111111111111111,
              "#46039f"
             ],
             [
              0.2222222222222222,
              "#7201a8"
             ],
             [
              0.3333333333333333,
              "#9c179e"
             ],
             [
              0.4444444444444444,
              "#bd3786"
             ],
             [
              0.5555555555555556,
              "#d8576b"
             ],
             [
              0.6666666666666666,
              "#ed7953"
             ],
             [
              0.7777777777777778,
              "#fb9f3a"
             ],
             [
              0.8888888888888888,
              "#fdca26"
             ],
             [
              1,
              "#f0f921"
             ]
            ],
            "type": "heatmap"
           }
          ],
          "heatmapgl": [
           {
            "colorbar": {
             "outlinewidth": 0,
             "ticks": ""
            },
            "colorscale": [
             [
              0,
              "#0d0887"
             ],
             [
              0.1111111111111111,
              "#46039f"
             ],
             [
              0.2222222222222222,
              "#7201a8"
             ],
             [
              0.3333333333333333,
              "#9c179e"
             ],
             [
              0.4444444444444444,
              "#bd3786"
             ],
             [
              0.5555555555555556,
              "#d8576b"
             ],
             [
              0.6666666666666666,
              "#ed7953"
             ],
             [
              0.7777777777777778,
              "#fb9f3a"
             ],
             [
              0.8888888888888888,
              "#fdca26"
             ],
             [
              1,
              "#f0f921"
             ]
            ],
            "type": "heatmapgl"
           }
          ],
          "histogram": [
           {
            "marker": {
             "colorbar": {
              "outlinewidth": 0,
              "ticks": ""
             }
            },
            "type": "histogram"
           }
          ],
          "histogram2d": [
           {
            "colorbar": {
             "outlinewidth": 0,
             "ticks": ""
            },
            "colorscale": [
             [
              0,
              "#0d0887"
             ],
             [
              0.1111111111111111,
              "#46039f"
             ],
             [
              0.2222222222222222,
              "#7201a8"
             ],
             [
              0.3333333333333333,
              "#9c179e"
             ],
             [
              0.4444444444444444,
              "#bd3786"
             ],
             [
              0.5555555555555556,
              "#d8576b"
             ],
             [
              0.6666666666666666,
              "#ed7953"
             ],
             [
              0.7777777777777778,
              "#fb9f3a"
             ],
             [
              0.8888888888888888,
              "#fdca26"
             ],
             [
              1,
              "#f0f921"
             ]
            ],
            "type": "histogram2d"
           }
          ],
          "histogram2dcontour": [
           {
            "colorbar": {
             "outlinewidth": 0,
             "ticks": ""
            },
            "colorscale": [
             [
              0,
              "#0d0887"
             ],
             [
              0.1111111111111111,
              "#46039f"
             ],
             [
              0.2222222222222222,
              "#7201a8"
             ],
             [
              0.3333333333333333,
              "#9c179e"
             ],
             [
              0.4444444444444444,
              "#bd3786"
             ],
             [
              0.5555555555555556,
              "#d8576b"
             ],
             [
              0.6666666666666666,
              "#ed7953"
             ],
             [
              0.7777777777777778,
              "#fb9f3a"
             ],
             [
              0.8888888888888888,
              "#fdca26"
             ],
             [
              1,
              "#f0f921"
             ]
            ],
            "type": "histogram2dcontour"
           }
          ],
          "mesh3d": [
           {
            "colorbar": {
             "outlinewidth": 0,
             "ticks": ""
            },
            "type": "mesh3d"
           }
          ],
          "parcoords": [
           {
            "line": {
             "colorbar": {
              "outlinewidth": 0,
              "ticks": ""
             }
            },
            "type": "parcoords"
           }
          ],
          "pie": [
           {
            "automargin": true,
            "type": "pie"
           }
          ],
          "scatter": [
           {
            "marker": {
             "colorbar": {
              "outlinewidth": 0,
              "ticks": ""
             }
            },
            "type": "scatter"
           }
          ],
          "scatter3d": [
           {
            "line": {
             "colorbar": {
              "outlinewidth": 0,
              "ticks": ""
             }
            },
            "marker": {
             "colorbar": {
              "outlinewidth": 0,
              "ticks": ""
             }
            },
            "type": "scatter3d"
           }
          ],
          "scattercarpet": [
           {
            "marker": {
             "colorbar": {
              "outlinewidth": 0,
              "ticks": ""
             }
            },
            "type": "scattercarpet"
           }
          ],
          "scattergeo": [
           {
            "marker": {
             "colorbar": {
              "outlinewidth": 0,
              "ticks": ""
             }
            },
            "type": "scattergeo"
           }
          ],
          "scattergl": [
           {
            "marker": {
             "colorbar": {
              "outlinewidth": 0,
              "ticks": ""
             }
            },
            "type": "scattergl"
           }
          ],
          "scattermapbox": [
           {
            "marker": {
             "colorbar": {
              "outlinewidth": 0,
              "ticks": ""
             }
            },
            "type": "scattermapbox"
           }
          ],
          "scatterpolar": [
           {
            "marker": {
             "colorbar": {
              "outlinewidth": 0,
              "ticks": ""
             }
            },
            "type": "scatterpolar"
           }
          ],
          "scatterpolargl": [
           {
            "marker": {
             "colorbar": {
              "outlinewidth": 0,
              "ticks": ""
             }
            },
            "type": "scatterpolargl"
           }
          ],
          "scatterternary": [
           {
            "marker": {
             "colorbar": {
              "outlinewidth": 0,
              "ticks": ""
             }
            },
            "type": "scatterternary"
           }
          ],
          "surface": [
           {
            "colorbar": {
             "outlinewidth": 0,
             "ticks": ""
            },
            "colorscale": [
             [
              0,
              "#0d0887"
             ],
             [
              0.1111111111111111,
              "#46039f"
             ],
             [
              0.2222222222222222,
              "#7201a8"
             ],
             [
              0.3333333333333333,
              "#9c179e"
             ],
             [
              0.4444444444444444,
              "#bd3786"
             ],
             [
              0.5555555555555556,
              "#d8576b"
             ],
             [
              0.6666666666666666,
              "#ed7953"
             ],
             [
              0.7777777777777778,
              "#fb9f3a"
             ],
             [
              0.8888888888888888,
              "#fdca26"
             ],
             [
              1,
              "#f0f921"
             ]
            ],
            "type": "surface"
           }
          ],
          "table": [
           {
            "cells": {
             "fill": {
              "color": "#EBF0F8"
             },
             "line": {
              "color": "white"
             }
            },
            "header": {
             "fill": {
              "color": "#C8D4E3"
             },
             "line": {
              "color": "white"
             }
            },
            "type": "table"
           }
          ]
         },
         "layout": {
          "annotationdefaults": {
           "arrowcolor": "#2a3f5f",
           "arrowhead": 0,
           "arrowwidth": 1
          },
          "autotypenumbers": "strict",
          "coloraxis": {
           "colorbar": {
            "outlinewidth": 0,
            "ticks": ""
           }
          },
          "colorscale": {
           "diverging": [
            [
             0,
             "#8e0152"
            ],
            [
             0.1,
             "#c51b7d"
            ],
            [
             0.2,
             "#de77ae"
            ],
            [
             0.3,
             "#f1b6da"
            ],
            [
             0.4,
             "#fde0ef"
            ],
            [
             0.5,
             "#f7f7f7"
            ],
            [
             0.6,
             "#e6f5d0"
            ],
            [
             0.7,
             "#b8e186"
            ],
            [
             0.8,
             "#7fbc41"
            ],
            [
             0.9,
             "#4d9221"
            ],
            [
             1,
             "#276419"
            ]
           ],
           "sequential": [
            [
             0,
             "#0d0887"
            ],
            [
             0.1111111111111111,
             "#46039f"
            ],
            [
             0.2222222222222222,
             "#7201a8"
            ],
            [
             0.3333333333333333,
             "#9c179e"
            ],
            [
             0.4444444444444444,
             "#bd3786"
            ],
            [
             0.5555555555555556,
             "#d8576b"
            ],
            [
             0.6666666666666666,
             "#ed7953"
            ],
            [
             0.7777777777777778,
             "#fb9f3a"
            ],
            [
             0.8888888888888888,
             "#fdca26"
            ],
            [
             1,
             "#f0f921"
            ]
           ],
           "sequentialminus": [
            [
             0,
             "#0d0887"
            ],
            [
             0.1111111111111111,
             "#46039f"
            ],
            [
             0.2222222222222222,
             "#7201a8"
            ],
            [
             0.3333333333333333,
             "#9c179e"
            ],
            [
             0.4444444444444444,
             "#bd3786"
            ],
            [
             0.5555555555555556,
             "#d8576b"
            ],
            [
             0.6666666666666666,
             "#ed7953"
            ],
            [
             0.7777777777777778,
             "#fb9f3a"
            ],
            [
             0.8888888888888888,
             "#fdca26"
            ],
            [
             1,
             "#f0f921"
            ]
           ]
          },
          "colorway": [
           "#636efa",
           "#EF553B",
           "#00cc96",
           "#ab63fa",
           "#FFA15A",
           "#19d3f3",
           "#FF6692",
           "#B6E880",
           "#FF97FF",
           "#FECB52"
          ],
          "font": {
           "color": "#2a3f5f"
          },
          "geo": {
           "bgcolor": "white",
           "lakecolor": "white",
           "landcolor": "#E5ECF6",
           "showlakes": true,
           "showland": true,
           "subunitcolor": "white"
          },
          "hoverlabel": {
           "align": "left"
          },
          "hovermode": "closest",
          "mapbox": {
           "style": "light"
          },
          "paper_bgcolor": "white",
          "plot_bgcolor": "#E5ECF6",
          "polar": {
           "angularaxis": {
            "gridcolor": "white",
            "linecolor": "white",
            "ticks": ""
           },
           "bgcolor": "#E5ECF6",
           "radialaxis": {
            "gridcolor": "white",
            "linecolor": "white",
            "ticks": ""
           }
          },
          "scene": {
           "xaxis": {
            "backgroundcolor": "#E5ECF6",
            "gridcolor": "white",
            "gridwidth": 2,
            "linecolor": "white",
            "showbackground": true,
            "ticks": "",
            "zerolinecolor": "white"
           },
           "yaxis": {
            "backgroundcolor": "#E5ECF6",
            "gridcolor": "white",
            "gridwidth": 2,
            "linecolor": "white",
            "showbackground": true,
            "ticks": "",
            "zerolinecolor": "white"
           },
           "zaxis": {
            "backgroundcolor": "#E5ECF6",
            "gridcolor": "white",
            "gridwidth": 2,
            "linecolor": "white",
            "showbackground": true,
            "ticks": "",
            "zerolinecolor": "white"
           }
          },
          "shapedefaults": {
           "line": {
            "color": "#2a3f5f"
           }
          },
          "ternary": {
           "aaxis": {
            "gridcolor": "white",
            "linecolor": "white",
            "ticks": ""
           },
           "baxis": {
            "gridcolor": "white",
            "linecolor": "white",
            "ticks": ""
           },
           "bgcolor": "#E5ECF6",
           "caxis": {
            "gridcolor": "white",
            "linecolor": "white",
            "ticks": ""
           }
          },
          "title": {
           "x": 0.05
          },
          "xaxis": {
           "automargin": true,
           "gridcolor": "white",
           "linecolor": "white",
           "ticks": "",
           "title": {
            "standoff": 15
           },
           "zerolinecolor": "white",
           "zerolinewidth": 2
          },
          "yaxis": {
           "automargin": true,
           "gridcolor": "white",
           "linecolor": "white",
           "ticks": "",
           "title": {
            "standoff": 15
           },
           "zerolinecolor": "white",
           "zerolinewidth": 2
          }
         }
        },
        "title": {
         "text": "Predicted CO2EMISSIONS vs Actual CO2EMISSIONS"
        },
        "width": 1000,
        "xaxis": {
         "anchor": "y",
         "domain": [
          0,
          1
         ],
         "tickmode": "array",
         "ticktext": [
          "1",
          "2",
          "3",
          "4",
          "5",
          "6"
         ],
         "tickvals": [
          1,
          2,
          3,
          4,
          5,
          6
         ],
         "title": {
          "font": {
           "size": 15
          },
          "text": "Engine Size"
         }
        },
        "yaxis": {
         "anchor": "x",
         "domain": [
          0,
          1
         ],
         "tickmode": "array",
         "ticktext": [
          "Very long label",
          "long label",
          "3",
          "label"
         ],
         "tickvals": [
          1,
          2,
          3,
          4
         ],
         "title": {
          "font": {
           "size": 15
          },
          "text": "Amount of Emission"
         }
        }
       }
      },
      "text/html": [
       "<div>                            <div id=\"d52c9af4-03d0-475e-a768-934d31e1e8b3\" class=\"plotly-graph-div\" style=\"height:500px; width:1000px;\"></div>            <script type=\"text/javascript\">                require([\"plotly\"], function(Plotly) {                    window.PLOTLYENV=window.PLOTLYENV || {};                                    if (document.getElementById(\"d52c9af4-03d0-475e-a768-934d31e1e8b3\")) {                    Plotly.newPlot(                        \"d52c9af4-03d0-475e-a768-934d31e1e8b3\",                        [{\"hovertemplate\": \"variable=PredictedEmissions<br>ENGINESIZE=%{x}<br>value=%{y}<extra></extra>\", \"legendgroup\": \"PredictedEmissions\", \"marker\": {\"color\": \"#636efa\", \"symbol\": \"circle\"}, \"mode\": \"markers\", \"name\": \"PredictedEmissions\", \"orientation\": \"v\", \"showlegend\": true, \"type\": \"scatter\", \"x\": [null, 5.3, 2.4, 5.3, null, null, 1.2, 3.6, 3.6, null, null, null, null, null, null, null, null, null, 3.6, 5.7, 1.4, null, null, 2.4, 5.7, 6.2, 3.6, null, null, 1.4, 5.4, 6.2, null, 3.5, 6.0, null, 1.2, 5.4, 6.2, 6.2, null, 6.2, 6.2, null, null, null, 5.3, null, null, null, 3.6, 3.6, null, 3.6, 3.6, null, 4.6, null, 6.2, 6.4, null, null, 3.6, null, null, 4.3, null, 2.4, null, null, 2.4, null, null, null, null, 4.3, 5.0, 3.7, null, null, null, 6.2, null, 2.4, null, null, null, null, null, null, 5.3, null, null, null, null, null, null, null, 2.4, 1.6, null, null, 6.4, null, null, null, 6.0, 3.6, null, 4.8, null, null, null, 6.0, null, 1.2, null, null, 2.4, null, null, null, 2.4, null, null, null, 6.4, 3.6, 2.4, null, 6.2, 4.8, null, 6.2, 3.6, null, null, null, null, 6.4, null, 5.3, 3.6, null, null, null, null, 4.4, 5.7, 5.4, 2.4, null, null, 5.7, 3.6, null, 3.6, 5.3, null, null, null, 3.6, null, null, null, 2.4, 4.3, 3.6, 4.3, null, 4.3, null, 1.6, null, 5.0, null, 5.3, 3.6, 1.4, null, null, null, 2.4, 2.0, 3.6, 6.4, 5.0, null, null, 2.0, null, 3.6, null, 3.6, null, 3.6, 5.3, null, null, null, 2.0, null, 3.6, 6.2, null, 2.0, 3.6, null, null, 5.3, null, null, 1.2, null, null, 3.6, null, null, 5.0, null, null, 2.4, null, 6.4, 1.4, null, null, 1.4, null, 3.6, null, null, null, 2.4, null, null, 3.6, 4.8, 3.6, 1.2, null, null, null, null, null, null, null, 3.6, null, 3.6, null, null, 5.0, null, 3.6, null, 1.4, 2.4, null, 3.5, 3.6, 6.2, 3.6, null, 5.7, 6.4, null, null, 5.3, null, 3.6, null, 3.6, null, 5.3, 3.6, 2.4, null, null, null, 1.4, null, null, null, 5.7, null, 4.3, null, 3.6, null, null, 6.2, 5.3, 5.4, 5.0, 5.3, null, 2.4, 3.6, 6.0, null, null, null, null, 5.0, 5.3, null, null, null, 3.6, null, null, null, null, 3.6, null, null, 1.4, null, 6.2, null, null, null, null, null, null, 1.4, 3.6, 4.3, null, 3.6, null, null, null, null, 2.4, null, null, null, 2.4, 5.3, 6.0, null, null, 6.2, 6.0, 3.6, 5.4, 5.3, 3.6, null, 6.2, null, null, 4.3, 3.6, 3.6, null, null, null, null, null, null, null, null, 5.3, null, 5.0, null, null, 5.3, 1.4, null, 1.2, 1.6, null, 3.6, 5.3, 5.3, 3.6, null, 5.7, 3.6, null, 2.4, null, null, null, null, null, 5.3, 1.2, null, 2.4, null, null, null, null, 1.5, null, null, 1.4, null, null, null, null, 4.3, 6.2, 3.6, null, 2.4, 5.7, null, 6.2, 2.4, null, null, 6.0, 5.3, null, null, 6.2, null, null, null, null, null], \"xaxis\": \"x\", \"y\": [309.2209640118707, 262.84012878422027, 266.7051983865245, 243.51478077269928, 204.8640847496573, 243.51478077269928, 266.7051983865245, 282.16547679574126, 320.8161728187833, 266.7051983865245, 266.7051983865245, 386.52235605795465, 251.2449199773077, 262.84012878422027, 266.7051983865245, 262.84012878422027, 189.4038063404405, 266.7051983865245, 189.4038063404405, 332.41138162569587, 320.8161728187833, 197.1339455450489, 251.2449199773077, 270.57026798882873, 243.51478077269928, 197.1339455450489, 204.8640847496573, 189.4038063404405, 340.1415208303043, 251.2449199773077, 336.2764512280001, 220.3243631588741, 197.1339455450489, 320.8161728187833, 243.51478077269928, 309.2209640118707, 282.16547679574126, 332.41138162569587, 204.8640847496573, 224.1894327611783, 189.4038063404405, 189.4038063404405, 181.6736671358321, 224.1894327611783, 282.16547679574126, 189.4038063404405, 243.51478077269928, 243.51478077269928, 204.8640847496573, 328.5463120233917, 367.19700804643367, 266.7051983865245, 204.8640847496573, 270.57026798882873, 243.51478077269928, 332.41138162569587, 332.41138162569587, 347.8716600349127, 204.8640847496573, 293.7606856026539, 282.16547679574126, 293.7606856026539, 297.62575520495807, 266.7051983865245, 189.4038063404405, 258.9750591819161, 181.6736671358321, 313.0860336141749, 243.51478077269928, 270.57026798882873, 320.8161728187833, 204.8640847496573, 262.84012878422027, 204.8640847496573, 204.8640847496573, 266.7051983865245, 332.41138162569587, 367.19700804643367, 367.19700804643367, 262.84012878422027, 220.3243631588741, 197.1339455450489, 231.9195719657867, 262.84012878422027, 189.4038063404405, 243.51478077269928, 243.51478077269928, 204.8640847496573, 347.8716600349127, 204.8640847496573, 231.9195719657867, 289.8956160003497, 262.84012878422027, 197.1339455450489, 204.8640847496573, 204.8640847496573, 220.3243631588741, 262.84012878422027, 266.7051983865245, 344.0065904326085, 367.19700804643367, 224.1894327611783, 266.7051983865245, 220.3243631588741, 266.7051983865245, 166.2133887266153, 243.51478077269928, 204.8640847496573, 220.3243631588741, 204.8640847496573, 185.5387367381363, 262.84012878422027, 266.7051983865245, 231.9195719657867, 305.3558944095665, 266.7051983865245, 270.57026798882873, 313.0860336141749, 266.7051983865245, 189.4038063404405, 262.84012878422027, 185.5387367381363, 231.9195719657867, 197.1339455450489, 243.51478077269928, 220.3243631588741, 266.7051983865245, 204.8640847496573, 347.8716600349127, 204.8640847496573, 189.4038063404405, 189.4038063404405, 359.46686884182526, 197.1339455450489, 262.84012878422027, 243.51478077269928, 243.51478077269928, 340.1415208303043, 204.8640847496573, 282.16547679574126, 347.8716600349127, 262.84012878422027, 189.4038063404405, 266.7051983865245, 181.6736671358321, 262.84012878422027, 266.7051983865245, 197.1339455450489, 293.7606856026539, 328.5463120233917, 204.8640847496573, 262.84012878422027, 251.2449199773077, 243.51478077269928, 243.51478077269928, 293.7606856026539, 320.8161728187833, 243.51478077269928, 197.1339455450489, 266.7051983865245, 374.9271472510421, 340.1415208303043, 204.8640847496573, 266.7051983865245, 220.3243631588741, 266.7051983865245, 231.9195719657867, 347.8716600349127, 204.8640847496573, 181.6736671358321, 204.8640847496573, 367.19700804643367, 355.6017992395211, 274.4353375911329, 336.2764512280001, 197.1339455450489, 262.84012878422027, 204.8640847496573, 274.4353375911329, 243.51478077269928, 197.1339455450489, 204.8640847496573, 243.51478077269928, 336.2764512280001, 224.1894327611783, 320.8161728187833, 332.41138162569587, 173.94352793122368, 189.4038063404405, 185.5387367381363, 224.1894327611783, 197.1339455450489, 224.1894327611783, 189.4038063404405, 189.4038063404405, 197.1339455450489, 262.84012878422027, 204.8640847496573, 274.4353375911329, 204.8640847496573, 320.8161728187833, 185.5387367381363, 305.3558944095665, 220.3243631588741, 347.8716600349127, 359.46686884182526, 220.3243631588741, 204.8640847496573, 332.41138162569587, 204.8640847496573, 220.3243631588741, 220.3243631588741, 243.51478077269928, 452.2285392971261, 181.6736671358321, 297.62575520495807, 243.51478077269928, 243.51478077269928, 332.41138162569587, 297.62575520495807, 270.57026798882873, 204.8640847496573, 282.16547679574126, 266.7051983865245, 289.8956160003497, 220.3243631588741, 378.7922168533463, 320.8161728187833, 347.8716600349127, 270.57026798882873, 367.19700804643367, 262.84012878422027, 266.7051983865245, 220.3243631588741, 266.7051983865245, 204.8640847496573, 204.8640847496573, 224.1894327611783, 181.6736671358321, 266.7051983865245, 266.7051983865245, 266.7051983865245, 282.16547679574126, 204.8640847496573, 262.84012878422027, 344.0065904326085, 224.1894327611783, 282.16547679574126, 262.84012878422027, 189.4038063404405, 204.8640847496573, 262.84012878422027, 332.41138162569587, 270.57026798882873, 204.8640847496573, 382.6572864556505, 270.57026798882873, 344.0065904326085, 266.7051983865245, 367.19700804643367, 243.51478077269928, 181.6736671358321, 297.62575520495807, 293.7606856026539, 320.8161728187833, 270.57026798882873, 204.8640847496573, 266.7051983865245, 220.3243631588741, 332.41138162569587, 347.8716600349127, 340.1415208303043, 189.4038063404405, 243.51478077269928, 262.84012878422027, 282.16547679574126, 243.51478077269928, 189.4038063404405, 220.3243631588741, 243.51478077269928, 266.7051983865245, 181.6736671358321, 220.3243631588741, 204.8640847496573, 243.51478077269928, 336.2764512280001, 220.3243631588741, 313.0860336141749, 204.8640847496573, 262.84012878422027, 266.7051983865245, 197.1339455450489, 204.8640847496573, 305.3558944095665, 332.41138162569587, 220.3243631588741, 351.73672963721685, 320.8161728187833, 181.6736671358321, 204.8640847496573, 231.9195719657867, 197.1339455450489, 224.1894327611783, 282.16547679574126, 359.46686884182526, 243.51478077269928, 243.51478077269928, 204.8640847496573, 173.94352793122368, 220.3243631588741, 243.51478077269928, 305.3558944095665, 320.8161728187833, 204.8640847496573, 204.8640847496573, 189.4038063404405, 204.8640847496573, 332.41138162569587, 367.19700804643367, 185.5387367381363, 224.1894327611783, 204.8640847496573, 266.7051983865245, 336.2764512280001, 262.84012878422027, 266.7051983865245, 204.8640847496573, 297.62575520495807, 243.51478077269928, 181.6736671358321, 367.19700804643367, 204.8640847496573, 359.46686884182526, 266.7051983865245, 266.7051983865245, 332.41138162569587, 220.3243631588741, 332.41138162569587, 320.8161728187833, 332.41138162569587, 262.84012878422027, 231.9195719657867, 297.62575520495807, 224.1894327611783, 197.1339455450489, 224.1894327611783, 347.8716600349127, 332.41138162569587, 220.3243631588741, 204.8640847496573, 367.19700804643367, 189.4038063404405, 204.8640847496573, 189.4038063404405, 243.51478077269928, 224.1894327611783, 332.41138162569587, 262.84012878422027, 332.41138162569587, 274.4353375911329, 313.0860336141749, 270.57026798882873, 359.46686884182526, 224.1894327611783, 220.3243631588741, 189.4038063404405, 274.4353375911329, 367.19700804643367, 224.1894327611783, 189.4038063404405, 204.8640847496573, 224.1894327611783, 197.1339455450489, 262.84012878422027, 382.6572864556505, 270.57026798882873, 185.5387367381363, 220.3243631588741, 204.8640847496573, 266.7051983865245, 313.0860336141749, 266.7051983865245, 243.51478077269928, 185.5387367381363, 231.9195719657867, 189.4038063404405, 220.3243631588741, 320.8161728187833, 270.57026798882873, 173.94352793122368, 224.1894327611783, 220.3243631588741, 220.3243631588741, 262.84012878422027, 204.8640847496573, 189.4038063404405, 208.72915435196148, 266.7051983865245, 359.46686884182526, 204.8640847496573, 189.4038063404405, 332.41138162569587, 262.84012878422027, 204.8640847496573, 220.3243631588741, 266.7051983865245, 262.84012878422027, 185.5387367381363, 204.8640847496573, 220.3243631588741, 243.51478077269928, 243.51478077269928, 243.51478077269928, 189.4038063404405, 266.7051983865245, 204.8640847496573, 262.84012878422027, 224.1894327611783, 270.57026798882873, 274.4353375911329, 270.57026798882873, 204.8640847496573, 204.8640847496573, 320.8161728187833, 220.3243631588741, 189.4038063404405, 262.84012878422027], \"yaxis\": \"y\"}, {\"hovertemplate\": \"variable=CO2EMISSIONS<br>ENGINESIZE=%{x}<br>value=%{y}<extra></extra>\", \"legendgroup\": \"CO2EMISSIONS\", \"marker\": {\"color\": \"#EF553B\", \"symbol\": \"circle\"}, \"mode\": \"markers\", \"name\": \"CO2EMISSIONS\", \"orientation\": \"v\", \"showlegend\": true, \"type\": \"scatter\", \"x\": [null, 5.3, 2.4, 5.3, null, null, 1.2, 3.6, 3.6, null, null, null, null, null, null, null, null, null, 3.6, 5.7, 1.4, null, null, 2.4, 5.7, 6.2, 3.6, null, null, 1.4, 5.4, 6.2, null, 3.5, 6.0, null, 1.2, 5.4, 6.2, 6.2, null, 6.2, 6.2, null, null, null, 5.3, null, null, null, 3.6, 3.6, null, 3.6, 3.6, null, 4.6, null, 6.2, 6.4, null, null, 3.6, null, null, 4.3, null, 2.4, null, null, 2.4, null, null, null, null, 4.3, 5.0, 3.7, null, null, null, 6.2, null, 2.4, null, null, null, null, null, null, 5.3, null, null, null, null, null, null, null, 2.4, 1.6, null, null, 6.4, null, null, null, 6.0, 3.6, null, 4.8, null, null, null, 6.0, null, 1.2, null, null, 2.4, null, null, null, 2.4, null, null, null, 6.4, 3.6, 2.4, null, 6.2, 4.8, null, 6.2, 3.6, null, null, null, null, 6.4, null, 5.3, 3.6, null, null, null, null, 4.4, 5.7, 5.4, 2.4, null, null, 5.7, 3.6, null, 3.6, 5.3, null, null, null, 3.6, null, null, null, 2.4, 4.3, 3.6, 4.3, null, 4.3, null, 1.6, null, 5.0, null, 5.3, 3.6, 1.4, null, null, null, 2.4, 2.0, 3.6, 6.4, 5.0, null, null, 2.0, null, 3.6, null, 3.6, null, 3.6, 5.3, null, null, null, 2.0, null, 3.6, 6.2, null, 2.0, 3.6, null, null, 5.3, null, null, 1.2, null, null, 3.6, null, null, 5.0, null, null, 2.4, null, 6.4, 1.4, null, null, 1.4, null, 3.6, null, null, null, 2.4, null, null, 3.6, 4.8, 3.6, 1.2, null, null, null, null, null, null, null, 3.6, null, 3.6, null, null, 5.0, null, 3.6, null, 1.4, 2.4, null, 3.5, 3.6, 6.2, 3.6, null, 5.7, 6.4, null, null, 5.3, null, 3.6, null, 3.6, null, 5.3, 3.6, 2.4, null, null, null, 1.4, null, null, null, 5.7, null, 4.3, null, 3.6, null, null, 6.2, 5.3, 5.4, 5.0, 5.3, null, 2.4, 3.6, 6.0, null, null, null, null, 5.0, 5.3, null, null, null, 3.6, null, null, null, null, 3.6, null, null, 1.4, null, 6.2, null, null, null, null, null, null, 1.4, 3.6, 4.3, null, 3.6, null, null, null, null, 2.4, null, null, null, 2.4, 5.3, 6.0, null, null, 6.2, 6.0, 3.6, 5.4, 5.3, 3.6, null, 6.2, null, null, 4.3, 3.6, 3.6, null, null, null, null, null, null, null, null, 5.3, null, 5.0, null, null, 5.3, 1.4, null, 1.2, 1.6, null, 3.6, 5.3, 5.3, 3.6, null, 5.7, 3.6, null, 2.4, null, null, null, null, null, 5.3, 1.2, null, 2.4, null, null, null, null, 1.5, null, null, 1.4, null, null, null, null, 4.3, 6.2, 3.6, null, 2.4, 5.7, null, 6.2, 2.4, null, null, 6.0, 5.3, null, null, 6.2, null, null, null, null, null], \"xaxis\": \"x\", \"y\": [304.0, 221.0, 294.0, 221.0, 207.0, 246.0, 259.0, 310.0, 310.0, 264.0, 230.0, 393.0, 258.0, 246.0, 269.0, 255.0, 232.0, 242.0, 184.0, 299.0, 334.0, 216.0, 267.0, 235.0, 285.0, 196.0, 209.0, 175.0, 297.0, 248.0, 346.0, 196.0, 216.0, 354.0, 228.0, 264.0, 260.0, 362.0, 196.0, 196.0, 152.0, 177.0, 182.0, 207.0, 301.0, 207.0, 244.0, 278.0, 179.0, 400.0, 292.0, 308.0, 225.0, 281.0, 292.0, 317.0, 344.0, 324.0, 177.0, 290.0, 320.0, 271.0, 281.0, 251.0, 191.0, 237.0, 179.0, 294.0, 267.0, 269.0, 280.0, 189.0, 264.0, 216.0, 230.0, 237.0, 380.0, 377.0, 340.0, 251.0, 186.0, 182.0, 251.0, 294.0, 191.0, 278.0, 191.0, 161.0, 340.0, 166.0, 212.0, 407.0, 175.0, 156.0, 197.0, 193.0, 225.0, 189.0, 294.0, 359.0, 347.0, 207.0, 290.0, 255.0, 229.0, 152.0, 228.0, 209.0, 225.0, 223.0, 186.0, 229.0, 276.0, 228.0, 347.0, 260.0, 283.0, 414.0, 294.0, 207.0, 253.0, 145.0, 235.0, 129.0, 232.0, 200.0, 290.0, 184.0, 294.0, 202.0, 196.0, 223.0, 435.0, 177.0, 308.0, 258.0, 258.0, 297.0, 200.0, 290.0, 301.0, 265.0, 184.0, 251.0, 179.0, 255.0, 269.0, 110.0, 285.0, 361.0, 235.0, 253.0, 264.0, 285.0, 292.0, 347.0, 310.0, 213.0, 175.0, 251.0, 317.0, 310.0, 195.0, 222.0, 230.0, 294.0, 237.0, 331.0, 237.0, 207.0, 237.0, 340.0, 359.0, 274.0, 382.0, 179.0, 244.0, 209.0, 334.0, 264.0, 202.0, 138.0, 275.0, 360.0, 168.0, 290.0, 380.0, 159.0, 179.0, 136.0, 175.0, 184.0, 189.0, 184.0, 214.0, 184.0, 244.0, 191.0, 274.0, 214.0, 318.0, 108.0, 329.0, 182.0, 340.0, 411.0, 209.0, 225.0, 317.0, 212.0, 230.0, 232.0, 260.0, 389.0, 179.0, 292.0, 267.0, 262.0, 380.0, 338.0, 253.0, 235.0, 322.0, 290.0, 336.0, 216.0, 421.0, 336.0, 384.0, 281.0, 366.0, 271.0, 276.0, 235.0, 222.0, 145.0, 165.0, 223.0, 184.0, 259.0, 283.0, 272.0, 297.0, 216.0, 189.0, 283.0, 225.0, 281.0, 288.0, 184.0, 200.0, 175.0, 380.0, 269.0, 184.0, 368.0, 248.0, 294.0, 251.0, 354.0, 281.0, 182.0, 292.0, 271.0, 306.0, 290.0, 216.0, 258.0, 212.0, 317.0, 308.0, 301.0, 184.0, 278.0, 244.0, 292.0, 235.0, 175.0, 216.0, 224.0, 248.0, 173.0, 255.0, 161.0, 285.0, 368.0, 237.0, 315.0, 209.0, 278.0, 274.0, 182.0, 218.0, 350.0, 380.0, 244.0, 304.0, 280.0, 168.0, 228.0, 271.0, 191.0, 207.0, 297.0, 380.0, 221.0, 258.0, 214.0, 159.0, 209.0, 283.0, 320.0, 320.0, 200.0, 209.0, 179.0, 200.0, 334.0, 324.0, 177.0, 202.0, 283.0, 255.0, 421.0, 230.0, 251.0, 198.0, 292.0, 237.0, 179.0, 329.0, 186.0, 432.0, 301.0, 242.0, 294.0, 230.0, 317.0, 315.0, 294.0, 221.0, 228.0, 338.0, 186.0, 182.0, 228.0, 308.0, 362.0, 212.0, 184.0, 258.0, 196.0, 193.0, 186.0, 237.0, 168.0, 292.0, 274.0, 366.0, 274.0, 419.0, 255.0, 435.0, 258.0, 251.0, 218.0, 322.0, 382.0, 216.0, 200.0, 221.0, 198.0, 191.0, 260.0, 359.0, 255.0, 168.0, 218.0, 221.0, 308.0, 414.0, 285.0, 281.0, 159.0, 235.0, 175.0, 230.0, 304.0, 267.0, 147.0, 218.0, 260.0, 145.0, 235.0, 207.0, 179.0, 194.0, 262.0, 413.0, 202.0, 207.0, 334.0, 251.0, 181.0, 189.0, 258.0, 237.0, 196.0, 163.0, 255.0, 294.0, 285.0, 274.0, 196.0, 235.0, 162.0, 172.0, 228.0, 265.0, 253.0, 264.0, 196.0, 230.0, 315.0, 202.0, 179.0, 271.0], \"yaxis\": \"y\"}],                        {\"autosize\": false, \"height\": 500, \"legend\": {\"title\": {\"text\": \"variable\"}, \"tracegroupgap\": 0}, \"template\": {\"data\": {\"bar\": [{\"error_x\": {\"color\": \"#2a3f5f\"}, \"error_y\": {\"color\": \"#2a3f5f\"}, \"marker\": {\"line\": {\"color\": \"#E5ECF6\", \"width\": 0.5}}, \"type\": \"bar\"}], \"barpolar\": [{\"marker\": {\"line\": {\"color\": \"#E5ECF6\", \"width\": 0.5}}, \"type\": \"barpolar\"}], \"carpet\": [{\"aaxis\": {\"endlinecolor\": \"#2a3f5f\", \"gridcolor\": \"white\", \"linecolor\": \"white\", \"minorgridcolor\": \"white\", \"startlinecolor\": \"#2a3f5f\"}, \"baxis\": {\"endlinecolor\": \"#2a3f5f\", \"gridcolor\": \"white\", \"linecolor\": \"white\", \"minorgridcolor\": \"white\", \"startlinecolor\": \"#2a3f5f\"}, \"type\": \"carpet\"}], \"choropleth\": [{\"colorbar\": {\"outlinewidth\": 0, \"ticks\": \"\"}, \"type\": \"choropleth\"}], \"contour\": [{\"colorbar\": {\"outlinewidth\": 0, \"ticks\": \"\"}, \"colorscale\": [[0.0, \"#0d0887\"], [0.1111111111111111, \"#46039f\"], [0.2222222222222222, \"#7201a8\"], [0.3333333333333333, \"#9c179e\"], [0.4444444444444444, \"#bd3786\"], [0.5555555555555556, \"#d8576b\"], [0.6666666666666666, \"#ed7953\"], [0.7777777777777778, \"#fb9f3a\"], [0.8888888888888888, \"#fdca26\"], [1.0, \"#f0f921\"]], \"type\": \"contour\"}], \"contourcarpet\": [{\"colorbar\": {\"outlinewidth\": 0, \"ticks\": \"\"}, \"type\": \"contourcarpet\"}], \"heatmap\": [{\"colorbar\": {\"outlinewidth\": 0, \"ticks\": \"\"}, \"colorscale\": [[0.0, \"#0d0887\"], [0.1111111111111111, \"#46039f\"], [0.2222222222222222, \"#7201a8\"], [0.3333333333333333, \"#9c179e\"], [0.4444444444444444, \"#bd3786\"], [0.5555555555555556, \"#d8576b\"], [0.6666666666666666, \"#ed7953\"], [0.7777777777777778, \"#fb9f3a\"], [0.8888888888888888, \"#fdca26\"], [1.0, \"#f0f921\"]], \"type\": \"heatmap\"}], \"heatmapgl\": [{\"colorbar\": {\"outlinewidth\": 0, \"ticks\": \"\"}, \"colorscale\": [[0.0, \"#0d0887\"], [0.1111111111111111, \"#46039f\"], [0.2222222222222222, \"#7201a8\"], [0.3333333333333333, \"#9c179e\"], [0.4444444444444444, \"#bd3786\"], [0.5555555555555556, \"#d8576b\"], [0.6666666666666666, \"#ed7953\"], [0.7777777777777778, \"#fb9f3a\"], [0.8888888888888888, \"#fdca26\"], [1.0, \"#f0f921\"]], \"type\": \"heatmapgl\"}], \"histogram\": [{\"marker\": {\"colorbar\": {\"outlinewidth\": 0, \"ticks\": \"\"}}, \"type\": \"histogram\"}], \"histogram2d\": [{\"colorbar\": {\"outlinewidth\": 0, \"ticks\": \"\"}, \"colorscale\": [[0.0, \"#0d0887\"], [0.1111111111111111, \"#46039f\"], [0.2222222222222222, \"#7201a8\"], [0.3333333333333333, \"#9c179e\"], [0.4444444444444444, \"#bd3786\"], [0.5555555555555556, \"#d8576b\"], [0.6666666666666666, \"#ed7953\"], [0.7777777777777778, \"#fb9f3a\"], [0.8888888888888888, \"#fdca26\"], [1.0, \"#f0f921\"]], \"type\": \"histogram2d\"}], \"histogram2dcontour\": [{\"colorbar\": {\"outlinewidth\": 0, \"ticks\": \"\"}, \"colorscale\": [[0.0, \"#0d0887\"], [0.1111111111111111, \"#46039f\"], [0.2222222222222222, \"#7201a8\"], [0.3333333333333333, \"#9c179e\"], [0.4444444444444444, \"#bd3786\"], [0.5555555555555556, \"#d8576b\"], [0.6666666666666666, \"#ed7953\"], [0.7777777777777778, \"#fb9f3a\"], [0.8888888888888888, \"#fdca26\"], [1.0, \"#f0f921\"]], \"type\": \"histogram2dcontour\"}], \"mesh3d\": [{\"colorbar\": {\"outlinewidth\": 0, \"ticks\": \"\"}, \"type\": \"mesh3d\"}], \"parcoords\": [{\"line\": {\"colorbar\": {\"outlinewidth\": 0, \"ticks\": \"\"}}, \"type\": \"parcoords\"}], \"pie\": [{\"automargin\": true, \"type\": \"pie\"}], \"scatter\": [{\"marker\": {\"colorbar\": {\"outlinewidth\": 0, \"ticks\": \"\"}}, \"type\": \"scatter\"}], \"scatter3d\": [{\"line\": {\"colorbar\": {\"outlinewidth\": 0, \"ticks\": \"\"}}, \"marker\": {\"colorbar\": {\"outlinewidth\": 0, \"ticks\": \"\"}}, \"type\": \"scatter3d\"}], \"scattercarpet\": [{\"marker\": {\"colorbar\": {\"outlinewidth\": 0, \"ticks\": \"\"}}, \"type\": \"scattercarpet\"}], \"scattergeo\": [{\"marker\": {\"colorbar\": {\"outlinewidth\": 0, \"ticks\": \"\"}}, \"type\": \"scattergeo\"}], \"scattergl\": [{\"marker\": {\"colorbar\": {\"outlinewidth\": 0, \"ticks\": \"\"}}, \"type\": \"scattergl\"}], \"scattermapbox\": [{\"marker\": {\"colorbar\": {\"outlinewidth\": 0, \"ticks\": \"\"}}, \"type\": \"scattermapbox\"}], \"scatterpolar\": [{\"marker\": {\"colorbar\": {\"outlinewidth\": 0, \"ticks\": \"\"}}, \"type\": \"scatterpolar\"}], \"scatterpolargl\": [{\"marker\": {\"colorbar\": {\"outlinewidth\": 0, \"ticks\": \"\"}}, \"type\": \"scatterpolargl\"}], \"scatterternary\": [{\"marker\": {\"colorbar\": {\"outlinewidth\": 0, \"ticks\": \"\"}}, \"type\": \"scatterternary\"}], \"surface\": [{\"colorbar\": {\"outlinewidth\": 0, \"ticks\": \"\"}, \"colorscale\": [[0.0, \"#0d0887\"], [0.1111111111111111, \"#46039f\"], [0.2222222222222222, \"#7201a8\"], [0.3333333333333333, \"#9c179e\"], [0.4444444444444444, \"#bd3786\"], [0.5555555555555556, \"#d8576b\"], [0.6666666666666666, \"#ed7953\"], [0.7777777777777778, \"#fb9f3a\"], [0.8888888888888888, \"#fdca26\"], [1.0, \"#f0f921\"]], \"type\": \"surface\"}], \"table\": [{\"cells\": {\"fill\": {\"color\": \"#EBF0F8\"}, \"line\": {\"color\": \"white\"}}, \"header\": {\"fill\": {\"color\": \"#C8D4E3\"}, \"line\": {\"color\": \"white\"}}, \"type\": \"table\"}]}, \"layout\": {\"annotationdefaults\": {\"arrowcolor\": \"#2a3f5f\", \"arrowhead\": 0, \"arrowwidth\": 1}, \"autotypenumbers\": \"strict\", \"coloraxis\": {\"colorbar\": {\"outlinewidth\": 0, \"ticks\": \"\"}}, \"colorscale\": {\"diverging\": [[0, \"#8e0152\"], [0.1, \"#c51b7d\"], [0.2, \"#de77ae\"], [0.3, \"#f1b6da\"], [0.4, \"#fde0ef\"], [0.5, \"#f7f7f7\"], [0.6, \"#e6f5d0\"], [0.7, \"#b8e186\"], [0.8, \"#7fbc41\"], [0.9, \"#4d9221\"], [1, \"#276419\"]], \"sequential\": [[0.0, \"#0d0887\"], [0.1111111111111111, \"#46039f\"], [0.2222222222222222, \"#7201a8\"], [0.3333333333333333, \"#9c179e\"], [0.4444444444444444, \"#bd3786\"], [0.5555555555555556, \"#d8576b\"], [0.6666666666666666, \"#ed7953\"], [0.7777777777777778, \"#fb9f3a\"], [0.8888888888888888, \"#fdca26\"], [1.0, \"#f0f921\"]], \"sequentialminus\": [[0.0, \"#0d0887\"], [0.1111111111111111, \"#46039f\"], [0.2222222222222222, \"#7201a8\"], [0.3333333333333333, \"#9c179e\"], [0.4444444444444444, \"#bd3786\"], [0.5555555555555556, \"#d8576b\"], [0.6666666666666666, \"#ed7953\"], [0.7777777777777778, \"#fb9f3a\"], [0.8888888888888888, \"#fdca26\"], [1.0, \"#f0f921\"]]}, \"colorway\": [\"#636efa\", \"#EF553B\", \"#00cc96\", \"#ab63fa\", \"#FFA15A\", \"#19d3f3\", \"#FF6692\", \"#B6E880\", \"#FF97FF\", \"#FECB52\"], \"font\": {\"color\": \"#2a3f5f\"}, \"geo\": {\"bgcolor\": \"white\", \"lakecolor\": \"white\", \"landcolor\": \"#E5ECF6\", \"showlakes\": true, \"showland\": true, \"subunitcolor\": \"white\"}, \"hoverlabel\": {\"align\": \"left\"}, \"hovermode\": \"closest\", \"mapbox\": {\"style\": \"light\"}, \"paper_bgcolor\": \"white\", \"plot_bgcolor\": \"#E5ECF6\", \"polar\": {\"angularaxis\": {\"gridcolor\": \"white\", \"linecolor\": \"white\", \"ticks\": \"\"}, \"bgcolor\": \"#E5ECF6\", \"radialaxis\": {\"gridcolor\": \"white\", \"linecolor\": \"white\", \"ticks\": \"\"}}, \"scene\": {\"xaxis\": {\"backgroundcolor\": \"#E5ECF6\", \"gridcolor\": \"white\", \"gridwidth\": 2, \"linecolor\": \"white\", \"showbackground\": true, \"ticks\": \"\", \"zerolinecolor\": \"white\"}, \"yaxis\": {\"backgroundcolor\": \"#E5ECF6\", \"gridcolor\": \"white\", \"gridwidth\": 2, \"linecolor\": \"white\", \"showbackground\": true, \"ticks\": \"\", \"zerolinecolor\": \"white\"}, \"zaxis\": {\"backgroundcolor\": \"#E5ECF6\", \"gridcolor\": \"white\", \"gridwidth\": 2, \"linecolor\": \"white\", \"showbackground\": true, \"ticks\": \"\", \"zerolinecolor\": \"white\"}}, \"shapedefaults\": {\"line\": {\"color\": \"#2a3f5f\"}}, \"ternary\": {\"aaxis\": {\"gridcolor\": \"white\", \"linecolor\": \"white\", \"ticks\": \"\"}, \"baxis\": {\"gridcolor\": \"white\", \"linecolor\": \"white\", \"ticks\": \"\"}, \"bgcolor\": \"#E5ECF6\", \"caxis\": {\"gridcolor\": \"white\", \"linecolor\": \"white\", \"ticks\": \"\"}}, \"title\": {\"x\": 0.05}, \"xaxis\": {\"automargin\": true, \"gridcolor\": \"white\", \"linecolor\": \"white\", \"ticks\": \"\", \"title\": {\"standoff\": 15}, \"zerolinecolor\": \"white\", \"zerolinewidth\": 2}, \"yaxis\": {\"automargin\": true, \"gridcolor\": \"white\", \"linecolor\": \"white\", \"ticks\": \"\", \"title\": {\"standoff\": 15}, \"zerolinecolor\": \"white\", \"zerolinewidth\": 2}}}, \"title\": {\"text\": \"Predicted CO2EMISSIONS vs Actual CO2EMISSIONS\"}, \"width\": 1000, \"xaxis\": {\"anchor\": \"y\", \"domain\": [0.0, 1.0], \"tickmode\": \"array\", \"ticktext\": [\"1\", \"2\", \"3\", \"4\", \"5\", \"6\"], \"tickvals\": [1, 2, 3, 4, 5, 6], \"title\": {\"font\": {\"size\": 15}, \"text\": \"Engine Size\"}}, \"yaxis\": {\"anchor\": \"x\", \"domain\": [0.0, 1.0], \"tickmode\": \"array\", \"ticktext\": [\"Very long label\", \"long label\", \"3\", \"label\"], \"tickvals\": [1, 2, 3, 4], \"title\": {\"font\": {\"size\": 15}, \"text\": \"Amount of Emission\"}}},                        {\"responsive\": true}                    ).then(function(){\n",
       "                            \n",
       "var gd = document.getElementById('d52c9af4-03d0-475e-a768-934d31e1e8b3');\n",
       "var x = new MutationObserver(function (mutations, observer) {{\n",
       "        var display = window.getComputedStyle(gd).display;\n",
       "        if (!display || display === 'none') {{\n",
       "            console.log([gd, 'removed!']);\n",
       "            Plotly.purge(gd);\n",
       "            observer.disconnect();\n",
       "        }}\n",
       "}});\n",
       "\n",
       "// Listen for the removal of the full notebook cells\n",
       "var notebookContainer = gd.closest('#notebook-container');\n",
       "if (notebookContainer) {{\n",
       "    x.observe(notebookContainer, {childList: true});\n",
       "}}\n",
       "\n",
       "// Listen for the clearing of the current output cell\n",
       "var outputEl = gd.closest('.output');\n",
       "if (outputEl) {{\n",
       "    x.observe(outputEl, {childList: true});\n",
       "}}\n",
       "\n",
       "                        })                };                });            </script>        </div>"
      ]
     },
     "metadata": {},
     "output_type": "display_data"
    }
   ],
   "source": [
    "fig.update_layout(\n",
    "    autosize=False,\n",
    "    width=1000,\n",
    "    height=500,\n",
    "    yaxis=dict(\n",
    "        title_text=\"Amount of Emission\",\n",
    "        tickmode=\"array\",\n",
    "        titlefont=dict(size=15)),\n",
    "    xaxis=dict(\n",
    "        title_text=\"Engine Size\",\n",
    "        ticktext=[\"1\", \"2\", \"3\", \"4\",\"5\",\"6\"],\n",
    "        tickvals=[1, 2, 3, 4,5,6],\n",
    "        tickmode=\"array\",\n",
    "        titlefont=dict(size=15))\n",
    ")"
   ]
  },
  {
   "cell_type": "markdown",
   "metadata": {
    "button": false,
    "new_sheet": false,
    "run_control": {
     "read_only": false
    }
   },
   "source": [
    "#### Plot outputs\n"
   ]
  },
  {
   "cell_type": "markdown",
   "metadata": {},
   "source": [
    "We can plot the fit line over the data:\n"
   ]
  },
  {
   "cell_type": "code",
   "execution_count": 142,
   "metadata": {
    "button": false,
    "new_sheet": false,
    "run_control": {
     "read_only": false
    }
   },
   "outputs": [
    {
     "data": {
      "text/plain": [
       "Text(0, 0.5, 'Emission')"
      ]
     },
     "execution_count": 142,
     "metadata": {},
     "output_type": "execute_result"
    },
    {
     "data": {
      "image/png": "[encoded data removed]",
      "text/plain": [
       "<Figure size 432x288 with 1 Axes>"
      ]
     },
     "metadata": {
      "needs_background": "light"
     },
     "output_type": "display_data"
    }
   ],
   "source": [
    "plt.scatter(train.ENGINESIZE, train.CO2EMISSIONS,  color='blue')\n",
    "plt.plot(train_x, regr.coef_[0][0]*train_x + regr.intercept_[0], '-r')\n",
    "plt.xlabel(\"Engine size\")\n",
    "plt.ylabel(\"Emission\")"
   ]
  },
  {
   "cell_type": "markdown",
   "metadata": {
    "button": false,
    "new_sheet": false,
    "run_control": {
     "read_only": false
    }
   },
   "source": [
    "#### Evaluation\n",
    "\n",
    "We compare the actual values and predicted values to calculate the accuracy of a regression model. Evaluation metrics provide a key role in the development of a model, as it provides insight to areas that require improvement.\n",
    "\n",
    "There are different model evaluation metrics, lets use MSE here to calculate the accuracy of our model based on the test set: \n",
    "\n",
    "```\n",
    "- Mean absolute error: It is the mean of the absolute value of the errors. This is the easiest of the metrics to understand since it’s just average error.\n",
    "- Mean Squared Error (MSE): Mean Squared Error (MSE) is the mean of the squared error. It’s more popular than Mean absolute error because the focus is geared more towards large errors. This is due to the squared term exponentially increasing larger errors in comparison to smaller ones.\n",
    "- Root Mean Squared Error (RMSE).\n",
    "- R-squared is not error, but is a popular metric for accuracy of your model. It represents how close the data are to the fitted regression line. The higher the R-squared, the better the model fits your data. Best possible score is 1.0 and it can be negative (because the model can be arbitrarily worse).\n",
    "```\n"
   ]
  },
  {
   "cell_type": "code",
   "execution_count": 37,
   "metadata": {
    "button": false,
    "new_sheet": false,
    "run_control": {
     "read_only": false
    },
    "scrolled": true
   },
   "outputs": [
    {
     "name": "stdout",
     "output_type": "stream",
     "text": [
      "Mean absolute error: 23.88\n",
      "Residual sum of squares (MSE): 1004.08\n",
      "R2-score: 0.71\n"
     ]
    }
   ],
   "source": [
    "from sklearn.metrics import r2_score\n",
    "\n",
    "test_x = np.asanyarray(test[['ENGINESIZE']])\n",
    "test_y = np.asanyarray(test[['CO2EMISSIONS']])\n",
    "test_y_ = regr.predict(test_x)\n",
    "\n",
    "print(\"Mean absolute error: %.2f\" % np.mean(np.absolute(test_y_ - test_y)))\n",
    "print(\"Residual sum of squares (MSE): %.2f\" % np.mean((test_y_ - test_y) ** 2))\n",
    "print(\"R2-score: %.2f\" % r2_score(test_y , test_y_) )"
   ]
  },
  {
   "cell_type": "markdown",
   "metadata": {
    "button": false,
    "new_sheet": false,
    "run_control": {
     "read_only": false
    }
   },
   "source": [
    "<h2>Want to learn more?</h2>\n",
    "\n",
    "IBM SPSS Modeler is a comprehensive analytics platform that has many machine learning algorithms. It has been designed to bring predictive intelligence to decisions made by individuals, by groups, by systems – by your enterprise as a whole. A free trial is available through this course, available here: <a href=\"https://www.ibm.com/analytics/spss-statistics-software\">SPSS Modeler</a>\n",
    "\n",
    "Also, you can use Watson Studio to run these notebooks faster with bigger datasets. Watson Studio is IBM's leading cloud solution for data scientists, built by data scientists. With Jupyter notebooks, RStudio, Apache Spark and popular libraries pre-packaged in the cloud, Watson Studio enables data scientists to collaborate on their projects without having to install anything. Join the fast-growing community of Watson Studio users today with a free account at <a href=\"https://www.ibm.com/cloud/watson-studio\">Watson Studio</a>\n"
   ]
  },
  {
   "cell_type": "markdown",
   "metadata": {},
   "source": [
    "### Thank you for completing this lab!\n",
    "\n",
    "## Author\n",
    "\n",
    "Saeed Aghabozorgi\n",
    "\n",
    "### Other Contributors\n",
    "\n",
    "<a href=\"https://www.linkedin.com/in/joseph-s-50398b136/\" target=\"_blank\">Joseph Santarcangelo</a>\n",
    "\n",
    "## Change Log\n",
    "\n",
    "| Date (YYYY-MM-DD) | Version | Changed By    | Change Description                 |\n",
    "| ----------------- | ------- | ------------- | ---------------------------------- |\n",
    "| 2020-11-03        | 2.1     | Lakshmi Holla | Changed URL of the csv             |\n",
    "| 2020-08-27        | 2.0     | Lavanya       | Moved lab to course repo in GitLab |\n",
    "|                   |         |               |                                    |\n",
    "|                   |         |               |                                    |\n",
    "\n",
    "## <h3 align=\"center\"> © IBM Corporation 2020. All rights reserved. <h3/>\n"
   ]
  }
 ],
 "metadata": {
  "kernelspec": {
   "display_name": "Python 3",
   "language": "python",
   "name": "python3"
  },
  "language_info": {
   "codemirror_mode": {
    "name": "ipython",
    "version": 3
   },
   "file_extension": ".py",
   "mimetype": "text/x-python",
   "name": "python",
   "nbconvert_exporter": "python",
   "pygments_lexer": "ipython3",
   "version": "3.9.4"
  },
  "widgets": {
   "state": {},
   "version": "1.1.2"
  }
 },
 "nbformat": 4,
 "nbformat_minor": 2
}
